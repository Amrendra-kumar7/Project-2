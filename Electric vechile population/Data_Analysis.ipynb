{
 "cells": [
  {
   "cell_type": "markdown",
   "metadata": {},
   "source": [
    "## Data Analysis for Electric Vehicle Population"
   ]
  },
  {
   "cell_type": "code",
   "execution_count": 3,
   "metadata": {},
   "outputs": [],
   "source": [
    "#import some important libraries\n",
    "# import some basic libraries\n",
    "import pandas as pd\n",
    "import numpy as np\n",
    "\n",
    "# visualization libraries\n",
    "import matplotlib.pyplot as plt\n",
    "import seaborn as sns\n",
    "%matplotlib inline\n",
    "\n",
    "# for scientific and statistical computing\n",
    "import scipy as sp\n",
    "\n",
    "# To make working with geospatial data in python easier\n",
    "from shapely.geometry import Point\n",
    "import geopandas as gpd\n",
    "from geopandas import GeoDataFrame\n",
    "\n",
    "plt.style.use('ggplot')"
   ]
  },
  {
   "cell_type": "markdown",
   "metadata": {},
   "source": [
    "### Data Loading and Exploration"
   ]
  },
  {
   "cell_type": "code",
   "execution_count": 4,
   "metadata": {},
   "outputs": [],
   "source": [
    "# Load the dataset \n",
    "df = pd.read_csv('Electric_Vehicle_Population.csv')"
   ]
  },
  {
   "cell_type": "code",
   "execution_count": 5,
   "metadata": {},
   "outputs": [
    {
     "data": {
      "text/html": [
       "<div>\n",
       "<style scoped>\n",
       "    .dataframe tbody tr th:only-of-type {\n",
       "        vertical-align: middle;\n",
       "    }\n",
       "\n",
       "    .dataframe tbody tr th {\n",
       "        vertical-align: top;\n",
       "    }\n",
       "\n",
       "    .dataframe thead th {\n",
       "        text-align: right;\n",
       "    }\n",
       "</style>\n",
       "<table border=\"1\" class=\"dataframe\">\n",
       "  <thead>\n",
       "    <tr style=\"text-align: right;\">\n",
       "      <th></th>\n",
       "      <th>VIN (1-10)</th>\n",
       "      <th>County</th>\n",
       "      <th>City</th>\n",
       "      <th>State</th>\n",
       "      <th>Postal Code</th>\n",
       "      <th>Model Year</th>\n",
       "      <th>Make</th>\n",
       "      <th>Model</th>\n",
       "      <th>Electric Vehicle Type</th>\n",
       "      <th>Clean Alternative Fuel Vehicle (CAFV) Eligibility</th>\n",
       "      <th>Electric Range</th>\n",
       "      <th>Base MSRP</th>\n",
       "      <th>Legislative District</th>\n",
       "      <th>DOL Vehicle ID</th>\n",
       "      <th>Vehicle Location</th>\n",
       "      <th>Electric Utility</th>\n",
       "      <th>2020 Census Tract</th>\n",
       "    </tr>\n",
       "  </thead>\n",
       "  <tbody>\n",
       "    <tr>\n",
       "      <th>0</th>\n",
       "      <td>3MW5P9J05N</td>\n",
       "      <td>Arapahoe</td>\n",
       "      <td>Englewood</td>\n",
       "      <td>CO</td>\n",
       "      <td>80111.0</td>\n",
       "      <td>2022</td>\n",
       "      <td>BMW</td>\n",
       "      <td>330E</td>\n",
       "      <td>Plug-in Hybrid Electric Vehicle (PHEV)</td>\n",
       "      <td>Not eligible due to low battery range</td>\n",
       "      <td>22</td>\n",
       "      <td>0</td>\n",
       "      <td>NaN</td>\n",
       "      <td>200589147</td>\n",
       "      <td>POINT (-104.89239 39.61914)</td>\n",
       "      <td>NaN</td>\n",
       "      <td>8.005007e+09</td>\n",
       "    </tr>\n",
       "    <tr>\n",
       "      <th>1</th>\n",
       "      <td>5YJXCBE27J</td>\n",
       "      <td>Island</td>\n",
       "      <td>Greenbank</td>\n",
       "      <td>WA</td>\n",
       "      <td>98253.0</td>\n",
       "      <td>2018</td>\n",
       "      <td>TESLA</td>\n",
       "      <td>MODEL X</td>\n",
       "      <td>Battery Electric Vehicle (BEV)</td>\n",
       "      <td>Clean Alternative Fuel Vehicle Eligible</td>\n",
       "      <td>238</td>\n",
       "      <td>0</td>\n",
       "      <td>10.0</td>\n",
       "      <td>326880081</td>\n",
       "      <td>POINT (-122.575569 48.08489)</td>\n",
       "      <td>NaN</td>\n",
       "      <td>5.302997e+10</td>\n",
       "    </tr>\n",
       "    <tr>\n",
       "      <th>2</th>\n",
       "      <td>1N4AZ0CP3F</td>\n",
       "      <td>Kings</td>\n",
       "      <td>Lemoore</td>\n",
       "      <td>CA</td>\n",
       "      <td>93245.0</td>\n",
       "      <td>2015</td>\n",
       "      <td>NISSAN</td>\n",
       "      <td>LEAF</td>\n",
       "      <td>Battery Electric Vehicle (BEV)</td>\n",
       "      <td>Clean Alternative Fuel Vehicle Eligible</td>\n",
       "      <td>84</td>\n",
       "      <td>0</td>\n",
       "      <td>NaN</td>\n",
       "      <td>182237457</td>\n",
       "      <td>POINT (-119.78637 36.30101)</td>\n",
       "      <td>NaN</td>\n",
       "      <td>6.031980e+09</td>\n",
       "    </tr>\n",
       "    <tr>\n",
       "      <th>3</th>\n",
       "      <td>5YJ3E1EA8J</td>\n",
       "      <td>San Diego</td>\n",
       "      <td>Oceanside</td>\n",
       "      <td>CA</td>\n",
       "      <td>92051.0</td>\n",
       "      <td>2018</td>\n",
       "      <td>TESLA</td>\n",
       "      <td>MODEL 3</td>\n",
       "      <td>Battery Electric Vehicle (BEV)</td>\n",
       "      <td>Clean Alternative Fuel Vehicle Eligible</td>\n",
       "      <td>215</td>\n",
       "      <td>0</td>\n",
       "      <td>NaN</td>\n",
       "      <td>153998050</td>\n",
       "      <td>NaN</td>\n",
       "      <td>NaN</td>\n",
       "      <td>6.073019e+09</td>\n",
       "    </tr>\n",
       "    <tr>\n",
       "      <th>4</th>\n",
       "      <td>5YJ3E1EB1K</td>\n",
       "      <td>Alameda</td>\n",
       "      <td>Berkeley</td>\n",
       "      <td>CA</td>\n",
       "      <td>94710.0</td>\n",
       "      <td>2019</td>\n",
       "      <td>TESLA</td>\n",
       "      <td>MODEL 3</td>\n",
       "      <td>Battery Electric Vehicle (BEV)</td>\n",
       "      <td>Clean Alternative Fuel Vehicle Eligible</td>\n",
       "      <td>220</td>\n",
       "      <td>0</td>\n",
       "      <td>NaN</td>\n",
       "      <td>320914072</td>\n",
       "      <td>POINT (-122.300531 37.869271)</td>\n",
       "      <td>NaN</td>\n",
       "      <td>6.001423e+09</td>\n",
       "    </tr>\n",
       "  </tbody>\n",
       "</table>\n",
       "</div>"
      ],
      "text/plain": [
       "   VIN (1-10)     County       City State  Postal Code  Model Year    Make  \\\n",
       "0  3MW5P9J05N   Arapahoe  Englewood    CO      80111.0        2022     BMW   \n",
       "1  5YJXCBE27J     Island  Greenbank    WA      98253.0        2018   TESLA   \n",
       "2  1N4AZ0CP3F      Kings    Lemoore    CA      93245.0        2015  NISSAN   \n",
       "3  5YJ3E1EA8J  San Diego  Oceanside    CA      92051.0        2018   TESLA   \n",
       "4  5YJ3E1EB1K    Alameda   Berkeley    CA      94710.0        2019   TESLA   \n",
       "\n",
       "     Model                   Electric Vehicle Type  \\\n",
       "0     330E  Plug-in Hybrid Electric Vehicle (PHEV)   \n",
       "1  MODEL X          Battery Electric Vehicle (BEV)   \n",
       "2     LEAF          Battery Electric Vehicle (BEV)   \n",
       "3  MODEL 3          Battery Electric Vehicle (BEV)   \n",
       "4  MODEL 3          Battery Electric Vehicle (BEV)   \n",
       "\n",
       "  Clean Alternative Fuel Vehicle (CAFV) Eligibility  Electric Range  \\\n",
       "0             Not eligible due to low battery range              22   \n",
       "1           Clean Alternative Fuel Vehicle Eligible             238   \n",
       "2           Clean Alternative Fuel Vehicle Eligible              84   \n",
       "3           Clean Alternative Fuel Vehicle Eligible             215   \n",
       "4           Clean Alternative Fuel Vehicle Eligible             220   \n",
       "\n",
       "   Base MSRP  Legislative District  DOL Vehicle ID  \\\n",
       "0          0                   NaN       200589147   \n",
       "1          0                  10.0       326880081   \n",
       "2          0                   NaN       182237457   \n",
       "3          0                   NaN       153998050   \n",
       "4          0                   NaN       320914072   \n",
       "\n",
       "                Vehicle Location Electric Utility  2020 Census Tract  \n",
       "0    POINT (-104.89239 39.61914)              NaN       8.005007e+09  \n",
       "1   POINT (-122.575569 48.08489)              NaN       5.302997e+10  \n",
       "2    POINT (-119.78637 36.30101)              NaN       6.031980e+09  \n",
       "3                            NaN              NaN       6.073019e+09  \n",
       "4  POINT (-122.300531 37.869271)              NaN       6.001423e+09  "
      ]
     },
     "execution_count": 5,
     "metadata": {},
     "output_type": "execute_result"
    }
   ],
   "source": [
    "# Display the data\n",
    "df.head()"
   ]
  },
  {
   "cell_type": "code",
   "execution_count": 6,
   "metadata": {},
   "outputs": [
    {
     "data": {
      "text/html": [
       "<div>\n",
       "<style scoped>\n",
       "    .dataframe tbody tr th:only-of-type {\n",
       "        vertical-align: middle;\n",
       "    }\n",
       "\n",
       "    .dataframe tbody tr th {\n",
       "        vertical-align: top;\n",
       "    }\n",
       "\n",
       "    .dataframe thead th {\n",
       "        text-align: right;\n",
       "    }\n",
       "</style>\n",
       "<table border=\"1\" class=\"dataframe\">\n",
       "  <thead>\n",
       "    <tr style=\"text-align: right;\">\n",
       "      <th></th>\n",
       "      <th>VIN (1-10)</th>\n",
       "      <th>County</th>\n",
       "      <th>City</th>\n",
       "      <th>State</th>\n",
       "      <th>Postal Code</th>\n",
       "      <th>Model Year</th>\n",
       "      <th>Make</th>\n",
       "      <th>Model</th>\n",
       "      <th>Electric Vehicle Type</th>\n",
       "      <th>Clean Alternative Fuel Vehicle (CAFV) Eligibility</th>\n",
       "      <th>Electric Range</th>\n",
       "      <th>Base MSRP</th>\n",
       "      <th>Legislative District</th>\n",
       "      <th>DOL Vehicle ID</th>\n",
       "      <th>Vehicle Location</th>\n",
       "      <th>Electric Utility</th>\n",
       "      <th>2020 Census Tract</th>\n",
       "    </tr>\n",
       "  </thead>\n",
       "  <tbody>\n",
       "    <tr>\n",
       "      <th>109476</th>\n",
       "      <td>KM8K33AGXN</td>\n",
       "      <td>Whatcom</td>\n",
       "      <td>Bellingham</td>\n",
       "      <td>WA</td>\n",
       "      <td>98229.0</td>\n",
       "      <td>2022</td>\n",
       "      <td>HYUNDAI</td>\n",
       "      <td>KONA ELECTRIC</td>\n",
       "      <td>Battery Electric Vehicle (BEV)</td>\n",
       "      <td>Eligibility unknown as battery range has not b...</td>\n",
       "      <td>0</td>\n",
       "      <td>0</td>\n",
       "      <td>40.0</td>\n",
       "      <td>176212200</td>\n",
       "      <td>POINT (-122.414936 48.709388)</td>\n",
       "      <td>PUGET SOUND ENERGY INC||PUD NO 1 OF WHATCOM CO...</td>\n",
       "      <td>5.307300e+10</td>\n",
       "    </tr>\n",
       "    <tr>\n",
       "      <th>109477</th>\n",
       "      <td>5YJ3E1EB2N</td>\n",
       "      <td>King</td>\n",
       "      <td>Sammamish</td>\n",
       "      <td>WA</td>\n",
       "      <td>98075.0</td>\n",
       "      <td>2022</td>\n",
       "      <td>TESLA</td>\n",
       "      <td>MODEL 3</td>\n",
       "      <td>Battery Electric Vehicle (BEV)</td>\n",
       "      <td>Eligibility unknown as battery range has not b...</td>\n",
       "      <td>0</td>\n",
       "      <td>0</td>\n",
       "      <td>41.0</td>\n",
       "      <td>185637224</td>\n",
       "      <td>POINT (-122.028168 47.586173)</td>\n",
       "      <td>PUGET SOUND ENERGY INC||CITY OF TACOMA - (WA)</td>\n",
       "      <td>5.303303e+10</td>\n",
       "    </tr>\n",
       "    <tr>\n",
       "      <th>109478</th>\n",
       "      <td>5YJYGDEE9M</td>\n",
       "      <td>Snohomish</td>\n",
       "      <td>Bothell</td>\n",
       "      <td>WA</td>\n",
       "      <td>98021.0</td>\n",
       "      <td>2021</td>\n",
       "      <td>TESLA</td>\n",
       "      <td>MODEL Y</td>\n",
       "      <td>Battery Electric Vehicle (BEV)</td>\n",
       "      <td>Eligibility unknown as battery range has not b...</td>\n",
       "      <td>0</td>\n",
       "      <td>0</td>\n",
       "      <td>1.0</td>\n",
       "      <td>153892070</td>\n",
       "      <td>POINT (-122.212105 47.792368)</td>\n",
       "      <td>PUGET SOUND ENERGY INC</td>\n",
       "      <td>5.306105e+10</td>\n",
       "    </tr>\n",
       "    <tr>\n",
       "      <th>109479</th>\n",
       "      <td>1N4AZ1CP0J</td>\n",
       "      <td>King</td>\n",
       "      <td>Shoreline</td>\n",
       "      <td>WA</td>\n",
       "      <td>98133.0</td>\n",
       "      <td>2018</td>\n",
       "      <td>NISSAN</td>\n",
       "      <td>LEAF</td>\n",
       "      <td>Battery Electric Vehicle (BEV)</td>\n",
       "      <td>Clean Alternative Fuel Vehicle Eligible</td>\n",
       "      <td>151</td>\n",
       "      <td>0</td>\n",
       "      <td>32.0</td>\n",
       "      <td>289064191</td>\n",
       "      <td>POINT (-122.343983 47.739969)</td>\n",
       "      <td>CITY OF SEATTLE - (WA)|CITY OF TACOMA - (WA)</td>\n",
       "      <td>5.303302e+10</td>\n",
       "    </tr>\n",
       "    <tr>\n",
       "      <th>109480</th>\n",
       "      <td>5YJYGDEE2M</td>\n",
       "      <td>Benton</td>\n",
       "      <td>Richland</td>\n",
       "      <td>WA</td>\n",
       "      <td>99354.0</td>\n",
       "      <td>2021</td>\n",
       "      <td>TESLA</td>\n",
       "      <td>MODEL Y</td>\n",
       "      <td>Battery Electric Vehicle (BEV)</td>\n",
       "      <td>Eligibility unknown as battery range has not b...</td>\n",
       "      <td>0</td>\n",
       "      <td>0</td>\n",
       "      <td>8.0</td>\n",
       "      <td>171199227</td>\n",
       "      <td>POINT (-119.26844 46.31484)</td>\n",
       "      <td>BONNEVILLE POWER ADMINISTRATION||CITY OF RICHL...</td>\n",
       "      <td>5.300501e+10</td>\n",
       "    </tr>\n",
       "  </tbody>\n",
       "</table>\n",
       "</div>"
      ],
      "text/plain": [
       "        VIN (1-10)     County        City State  Postal Code  Model Year  \\\n",
       "109476  KM8K33AGXN    Whatcom  Bellingham    WA      98229.0        2022   \n",
       "109477  5YJ3E1EB2N       King   Sammamish    WA      98075.0        2022   \n",
       "109478  5YJYGDEE9M  Snohomish     Bothell    WA      98021.0        2021   \n",
       "109479  1N4AZ1CP0J       King   Shoreline    WA      98133.0        2018   \n",
       "109480  5YJYGDEE2M     Benton    Richland    WA      99354.0        2021   \n",
       "\n",
       "           Make          Model           Electric Vehicle Type  \\\n",
       "109476  HYUNDAI  KONA ELECTRIC  Battery Electric Vehicle (BEV)   \n",
       "109477    TESLA        MODEL 3  Battery Electric Vehicle (BEV)   \n",
       "109478    TESLA        MODEL Y  Battery Electric Vehicle (BEV)   \n",
       "109479   NISSAN           LEAF  Battery Electric Vehicle (BEV)   \n",
       "109480    TESLA        MODEL Y  Battery Electric Vehicle (BEV)   \n",
       "\n",
       "        Clean Alternative Fuel Vehicle (CAFV) Eligibility  Electric Range  \\\n",
       "109476  Eligibility unknown as battery range has not b...               0   \n",
       "109477  Eligibility unknown as battery range has not b...               0   \n",
       "109478  Eligibility unknown as battery range has not b...               0   \n",
       "109479            Clean Alternative Fuel Vehicle Eligible             151   \n",
       "109480  Eligibility unknown as battery range has not b...               0   \n",
       "\n",
       "        Base MSRP  Legislative District  DOL Vehicle ID  \\\n",
       "109476          0                  40.0       176212200   \n",
       "109477          0                  41.0       185637224   \n",
       "109478          0                   1.0       153892070   \n",
       "109479          0                  32.0       289064191   \n",
       "109480          0                   8.0       171199227   \n",
       "\n",
       "                     Vehicle Location  \\\n",
       "109476  POINT (-122.414936 48.709388)   \n",
       "109477  POINT (-122.028168 47.586173)   \n",
       "109478  POINT (-122.212105 47.792368)   \n",
       "109479  POINT (-122.343983 47.739969)   \n",
       "109480    POINT (-119.26844 46.31484)   \n",
       "\n",
       "                                         Electric Utility  2020 Census Tract  \n",
       "109476  PUGET SOUND ENERGY INC||PUD NO 1 OF WHATCOM CO...       5.307300e+10  \n",
       "109477      PUGET SOUND ENERGY INC||CITY OF TACOMA - (WA)       5.303303e+10  \n",
       "109478                             PUGET SOUND ENERGY INC       5.306105e+10  \n",
       "109479       CITY OF SEATTLE - (WA)|CITY OF TACOMA - (WA)       5.303302e+10  \n",
       "109480  BONNEVILLE POWER ADMINISTRATION||CITY OF RICHL...       5.300501e+10  "
      ]
     },
     "execution_count": 6,
     "metadata": {},
     "output_type": "execute_result"
    }
   ],
   "source": [
    "df.tail()"
   ]
  },
  {
   "cell_type": "code",
   "execution_count": 8,
   "metadata": {},
   "outputs": [
    {
     "data": {
      "text/plain": [
       "(109481, 17)"
      ]
     },
     "execution_count": 8,
     "metadata": {},
     "output_type": "execute_result"
    }
   ],
   "source": [
    "df.shape"
   ]
  },
  {
   "cell_type": "code",
   "execution_count": 10,
   "metadata": {},
   "outputs": [
    {
     "data": {
      "text/plain": [
       "Index(['VIN (1-10)', 'County', 'City', 'State', 'Postal Code', 'Model Year',\n",
       "       'Make', 'Model', 'Electric Vehicle Type',\n",
       "       'Clean Alternative Fuel Vehicle (CAFV) Eligibility', 'Electric Range',\n",
       "       'Base MSRP', 'Legislative District', 'DOL Vehicle ID',\n",
       "       'Vehicle Location', 'Electric Utility', '2020 Census Tract'],\n",
       "      dtype='object')"
      ]
     },
     "execution_count": 10,
     "metadata": {},
     "output_type": "execute_result"
    }
   ],
   "source": [
    "df.columns"
   ]
  },
  {
   "cell_type": "code",
   "execution_count": 11,
   "metadata": {},
   "outputs": [
    {
     "data": {
      "text/plain": [
       "Index(['VIN (1-10)', 'County', 'City', 'State', 'Postal Code', 'Model Year',\n",
       "       'Make', 'Model', 'Electric Vehicle Type',\n",
       "       'Clean Alternative Fuel Vehicle (CAFV) Eligibility', 'Electric Range',\n",
       "       'Base MSRP', 'Legislative District', 'DOL Vehicle ID',\n",
       "       'Vehicle Location', 'Electric Utility', '2020 Census Tract'],\n",
       "      dtype='object')"
      ]
     },
     "execution_count": 11,
     "metadata": {},
     "output_type": "execute_result"
    }
   ],
   "source": [
    "df.columns.unique()"
   ]
  },
  {
   "cell_type": "code",
   "execution_count": 12,
   "metadata": {},
   "outputs": [
    {
     "name": "stdout",
     "output_type": "stream",
     "text": [
      "<class 'pandas.core.frame.DataFrame'>\n",
      "RangeIndex: 109481 entries, 0 to 109480\n",
      "Data columns (total 17 columns):\n",
      " #   Column                                             Non-Null Count   Dtype  \n",
      "---  ------                                             --------------   -----  \n",
      " 0   VIN (1-10)                                         109481 non-null  object \n",
      " 1   County                                             109480 non-null  object \n",
      " 2   City                                               109480 non-null  object \n",
      " 3   State                                              109481 non-null  object \n",
      " 4   Postal Code                                        109480 non-null  float64\n",
      " 5   Model Year                                         109481 non-null  int64  \n",
      " 6   Make                                               109481 non-null  object \n",
      " 7   Model                                              109474 non-null  object \n",
      " 8   Electric Vehicle Type                              109481 non-null  object \n",
      " 9   Clean Alternative Fuel Vehicle (CAFV) Eligibility  109481 non-null  object \n",
      " 10  Electric Range                                     109481 non-null  int64  \n",
      " 11  Base MSRP                                          109481 non-null  int64  \n",
      " 12  Legislative District                               109205 non-null  float64\n",
      " 13  DOL Vehicle ID                                     109481 non-null  int64  \n",
      " 14  Vehicle Location                                   109456 non-null  object \n",
      " 15  Electric Utility                                   109053 non-null  object \n",
      " 16  2020 Census Tract                                  109480 non-null  float64\n",
      "dtypes: float64(3), int64(4), object(10)\n",
      "memory usage: 14.2+ MB\n"
     ]
    }
   ],
   "source": [
    "df.info()"
   ]
  },
  {
   "cell_type": "markdown",
   "metadata": {},
   "source": [
    "#### Observation Number 1\n",
    "\n",
    "After an initial review of the dataset, the following insights and considerations regarding specific columns have been identified:\n",
    "\n",
    "    VIN (1-10): Acts as a unique identifier or index for the dataset.\n",
    "\n",
    "    Postal Code: Currently stored in a float format, this column needs to be converted to an integer for consistency and usability.\n",
    "\n",
    "    Base MSRP: Represents the lowest Manufacturer's Suggested Retail Price (MSRP). While this is a crucial column, we need to assess its data quality to ensure it is adequately populated.\n",
    "\n",
    "    Model Year, Make, Model: These attributes are already derived from the decoded VIN (1-10) identifier, making them redundant if the VIN is used effectively.\n",
    "\n",
    "    Electric Utility: Describes the Electric Retail Services:\n",
    "        |: Indicates a single service provider from the same vendor.\n",
    "        ||: Represents multiple service providers from various vendors.\n",
    "        Blank: Implies data is not available.\n",
    "        Before renaming, we will examine the health of this column by checking for NULL or missing values. This information can be categorized as:\n",
    "        Single Type Utility\n",
    "        Multi-Type Utility\n",
    "        Not Available\n",
    "\n",
    "    Column Names with Spaces: Several column names contain spaces, which can complicate analysis. These will be renamed for clarity and ease of use:\n",
    "        Postal Code\n",
    "        Model Year\n",
    "        Electric Vehicle Type\n",
    "        Clean Alternative Fuel Vehicle (CAFV) Eligibility\n",
    "        Electric Range\n",
    "        Base MSRP\n",
    "        Legislative District\n",
    "        DOL Vehicle ID\n",
    "        Vehicle Location\n",
    "        Electric Utility\n",
    "        2020 Census Tract\n",
    "\n",
    "    Potential Columns for Purging: Based on the analysis requirements, the following columns may be removed in later stages of the analysis, if deemed unnecessary:\n",
    "        Base MSRP\n",
    "        Legislative District"
   ]
  },
  {
   "cell_type": "markdown",
   "metadata": {},
   "source": [
    "### Descriptive Statistics\n",
    "We use descriptive statistics to summarize and understand the key features of dataset."
   ]
  },
  {
   "cell_type": "code",
   "execution_count": 13,
   "metadata": {},
   "outputs": [
    {
     "data": {
      "text/html": [
       "<style type=\"text/css\">\n",
       "#T_c156b_row0_col0, #T_c156b_row0_col1, #T_c156b_row0_col2, #T_c156b_row0_col4, #T_c156b_row7_col3, #T_c156b_row7_col5, #T_c156b_row7_col6 {\n",
       "  background-color: #08306b;\n",
       "  color: #f1f1f1;\n",
       "}\n",
       "#T_c156b_row0_col3 {\n",
       "  background-color: #ddeaf7;\n",
       "  color: #000000;\n",
       "}\n",
       "#T_c156b_row0_col5, #T_c156b_row0_col6, #T_c156b_row1_col2, #T_c156b_row1_col3, #T_c156b_row1_col4, #T_c156b_row2_col1, #T_c156b_row2_col2, #T_c156b_row2_col4, #T_c156b_row3_col0, #T_c156b_row3_col2, #T_c156b_row3_col3, #T_c156b_row3_col4, #T_c156b_row3_col5, #T_c156b_row4_col2, #T_c156b_row4_col3, #T_c156b_row4_col4, #T_c156b_row5_col2, #T_c156b_row5_col3, #T_c156b_row5_col4, #T_c156b_row6_col2, #T_c156b_row6_col3, #T_c156b_row6_col4, #T_c156b_row7_col2, #T_c156b_row7_col4 {\n",
       "  background-color: #f7fbff;\n",
       "  color: #000000;\n",
       "}\n",
       "#T_c156b_row1_col0, #T_c156b_row5_col0, #T_c156b_row6_col0 {\n",
       "  background-color: #084b93;\n",
       "  color: #f1f1f1;\n",
       "}\n",
       "#T_c156b_row1_col1, #T_c156b_row3_col1, #T_c156b_row4_col1, #T_c156b_row5_col1, #T_c156b_row6_col1, #T_c156b_row7_col1 {\n",
       "  background-color: #f4f9fe;\n",
       "  color: #000000;\n",
       "}\n",
       "#T_c156b_row1_col5 {\n",
       "  background-color: #8dc1dd;\n",
       "  color: #000000;\n",
       "}\n",
       "#T_c156b_row1_col6 {\n",
       "  background-color: #083e81;\n",
       "  color: #f1f1f1;\n",
       "}\n",
       "#T_c156b_row2_col0 {\n",
       "  background-color: #f5fafe;\n",
       "  color: #000000;\n",
       "}\n",
       "#T_c156b_row2_col3 {\n",
       "  background-color: #f5f9fe;\n",
       "  color: #000000;\n",
       "}\n",
       "#T_c156b_row2_col5 {\n",
       "  background-color: #d0e1f2;\n",
       "  color: #000000;\n",
       "}\n",
       "#T_c156b_row2_col6 {\n",
       "  background-color: #f2f7fd;\n",
       "  color: #000000;\n",
       "}\n",
       "#T_c156b_row3_col6 {\n",
       "  background-color: #f3f8fe;\n",
       "  color: #000000;\n",
       "}\n",
       "#T_c156b_row4_col0 {\n",
       "  background-color: #084c95;\n",
       "  color: #f1f1f1;\n",
       "}\n",
       "#T_c156b_row4_col5 {\n",
       "  background-color: #b4d3e9;\n",
       "  color: #000000;\n",
       "}\n",
       "#T_c156b_row4_col6, #T_c156b_row5_col6, #T_c156b_row6_col6 {\n",
       "  background-color: #083d7f;\n",
       "  color: #f1f1f1;\n",
       "}\n",
       "#T_c156b_row5_col5 {\n",
       "  background-color: #97c6df;\n",
       "  color: #000000;\n",
       "}\n",
       "#T_c156b_row6_col5 {\n",
       "  background-color: #7fb9da;\n",
       "  color: #000000;\n",
       "}\n",
       "#T_c156b_row7_col0 {\n",
       "  background-color: #08488e;\n",
       "  color: #f1f1f1;\n",
       "}\n",
       "</style>\n",
       "<table id=\"T_c156b\">\n",
       "  <thead>\n",
       "    <tr>\n",
       "      <th class=\"blank level0\" >&nbsp;</th>\n",
       "      <th id=\"T_c156b_level0_col0\" class=\"col_heading level0 col0\" >Postal Code</th>\n",
       "      <th id=\"T_c156b_level0_col1\" class=\"col_heading level0 col1\" >Model Year</th>\n",
       "      <th id=\"T_c156b_level0_col2\" class=\"col_heading level0 col2\" >Electric Range</th>\n",
       "      <th id=\"T_c156b_level0_col3\" class=\"col_heading level0 col3\" >Base MSRP</th>\n",
       "      <th id=\"T_c156b_level0_col4\" class=\"col_heading level0 col4\" >Legislative District</th>\n",
       "      <th id=\"T_c156b_level0_col5\" class=\"col_heading level0 col5\" >DOL Vehicle ID</th>\n",
       "      <th id=\"T_c156b_level0_col6\" class=\"col_heading level0 col6\" >2020 Census Tract</th>\n",
       "    </tr>\n",
       "  </thead>\n",
       "  <tbody>\n",
       "    <tr>\n",
       "      <th id=\"T_c156b_level0_row0\" class=\"row_heading level0 row0\" >count</th>\n",
       "      <td id=\"T_c156b_row0_col0\" class=\"data row0 col0\" >109480.000000</td>\n",
       "      <td id=\"T_c156b_row0_col1\" class=\"data row0 col1\" >109481.000000</td>\n",
       "      <td id=\"T_c156b_row0_col2\" class=\"data row0 col2\" >109481.000000</td>\n",
       "      <td id=\"T_c156b_row0_col3\" class=\"data row0 col3\" >109481.000000</td>\n",
       "      <td id=\"T_c156b_row0_col4\" class=\"data row0 col4\" >109205.000000</td>\n",
       "      <td id=\"T_c156b_row0_col5\" class=\"data row0 col5\" >109481.000000</td>\n",
       "      <td id=\"T_c156b_row0_col6\" class=\"data row0 col6\" >109480.000000</td>\n",
       "    </tr>\n",
       "    <tr>\n",
       "      <th id=\"T_c156b_level0_row1\" class=\"row_heading level0 row1\" >mean</th>\n",
       "      <td id=\"T_c156b_row1_col0\" class=\"data row1 col0\" >98157.012943</td>\n",
       "      <td id=\"T_c156b_row1_col1\" class=\"data row1 col1\" >2018.899197</td>\n",
       "      <td id=\"T_c156b_row1_col2\" class=\"data row1 col2\" >90.211425</td>\n",
       "      <td id=\"T_c156b_row1_col3\" class=\"data row1 col3\" >1849.194609</td>\n",
       "      <td id=\"T_c156b_row1_col4\" class=\"data row1 col4\" >29.824120</td>\n",
       "      <td id=\"T_c156b_row1_col5\" class=\"data row1 col5\" >198447551.859601</td>\n",
       "      <td id=\"T_c156b_row1_col6\" class=\"data row1 col6\" >52968493402.103012</td>\n",
       "    </tr>\n",
       "    <tr>\n",
       "      <th id=\"T_c156b_level0_row2\" class=\"row_heading level0 row2\" >std</th>\n",
       "      <td id=\"T_c156b_row2_col0\" class=\"data row2 col0\" >2640.605503</td>\n",
       "      <td id=\"T_c156b_row2_col1\" class=\"data row2 col1\" >2.872853</td>\n",
       "      <td id=\"T_c156b_row2_col2\" class=\"data row2 col2\" >102.575715</td>\n",
       "      <td id=\"T_c156b_row2_col3\" class=\"data row2 col3\" >10946.085012</td>\n",
       "      <td id=\"T_c156b_row2_col4\" class=\"data row2 col4\" >14.679959</td>\n",
       "      <td id=\"T_c156b_row2_col5\" class=\"data row2 col5\" >95617186.541589</td>\n",
       "      <td id=\"T_c156b_row2_col6\" class=\"data row2 col6\" >1675103687.859588</td>\n",
       "    </tr>\n",
       "    <tr>\n",
       "      <th id=\"T_c156b_level0_row3\" class=\"row_heading level0 row3\" >min</th>\n",
       "      <td id=\"T_c156b_row3_col0\" class=\"data row3 col0\" >1730.000000</td>\n",
       "      <td id=\"T_c156b_row3_col1\" class=\"data row3 col1\" >1997.000000</td>\n",
       "      <td id=\"T_c156b_row3_col2\" class=\"data row3 col2\" >0.000000</td>\n",
       "      <td id=\"T_c156b_row3_col3\" class=\"data row3 col3\" >0.000000</td>\n",
       "      <td id=\"T_c156b_row3_col4\" class=\"data row3 col4\" >1.000000</td>\n",
       "      <td id=\"T_c156b_row3_col5\" class=\"data row3 col5\" >4777.000000</td>\n",
       "      <td id=\"T_c156b_row3_col6\" class=\"data row3 col6\" >1101001400.000000</td>\n",
       "    </tr>\n",
       "    <tr>\n",
       "      <th id=\"T_c156b_level0_row4\" class=\"row_heading level0 row4\" >25%</th>\n",
       "      <td id=\"T_c156b_row4_col0\" class=\"data row4 col0\" >98052.000000</td>\n",
       "      <td id=\"T_c156b_row4_col1\" class=\"data row4 col1\" >2017.000000</td>\n",
       "      <td id=\"T_c156b_row4_col2\" class=\"data row4 col2\" >0.000000</td>\n",
       "      <td id=\"T_c156b_row4_col3\" class=\"data row4 col3\" >0.000000</td>\n",
       "      <td id=\"T_c156b_row4_col4\" class=\"data row4 col4\" >18.000000</td>\n",
       "      <td id=\"T_c156b_row4_col5\" class=\"data row4 col5\" >146731322.000000</td>\n",
       "      <td id=\"T_c156b_row4_col6\" class=\"data row4 col6\" >53033008500.000000</td>\n",
       "    </tr>\n",
       "    <tr>\n",
       "      <th id=\"T_c156b_level0_row5\" class=\"row_heading level0 row5\" >50%</th>\n",
       "      <td id=\"T_c156b_row5_col0\" class=\"data row5 col0\" >98121.000000</td>\n",
       "      <td id=\"T_c156b_row5_col1\" class=\"data row5 col1\" >2019.000000</td>\n",
       "      <td id=\"T_c156b_row5_col2\" class=\"data row5 col2\" >35.000000</td>\n",
       "      <td id=\"T_c156b_row5_col3\" class=\"data row5 col3\" >0.000000</td>\n",
       "      <td id=\"T_c156b_row5_col4\" class=\"data row5 col4\" >34.000000</td>\n",
       "      <td id=\"T_c156b_row5_col5\" class=\"data row5 col5\" >187411808.000000</td>\n",
       "      <td id=\"T_c156b_row5_col6\" class=\"data row5 col6\" >53033029304.000000</td>\n",
       "    </tr>\n",
       "    <tr>\n",
       "      <th id=\"T_c156b_level0_row6\" class=\"row_heading level0 row6\" >75%</th>\n",
       "      <td id=\"T_c156b_row6_col0\" class=\"data row6 col0\" >98370.000000</td>\n",
       "      <td id=\"T_c156b_row6_col1\" class=\"data row6 col1\" >2021.000000</td>\n",
       "      <td id=\"T_c156b_row6_col2\" class=\"data row6 col2\" >208.000000</td>\n",
       "      <td id=\"T_c156b_row6_col3\" class=\"data row6 col3\" >0.000000</td>\n",
       "      <td id=\"T_c156b_row6_col4\" class=\"data row6 col4\" >43.000000</td>\n",
       "      <td id=\"T_c156b_row6_col5\" class=\"data row6 col5\" >216917571.000000</td>\n",
       "      <td id=\"T_c156b_row6_col6\" class=\"data row6 col6\" >53053072506.000000</td>\n",
       "    </tr>\n",
       "    <tr>\n",
       "      <th id=\"T_c156b_level0_row7\" class=\"row_heading level0 row7\" >max</th>\n",
       "      <td id=\"T_c156b_row7_col0\" class=\"data row7 col0\" >99701.000000</td>\n",
       "      <td id=\"T_c156b_row7_col1\" class=\"data row7 col1\" >2023.000000</td>\n",
       "      <td id=\"T_c156b_row7_col2\" class=\"data row7 col2\" >337.000000</td>\n",
       "      <td id=\"T_c156b_row7_col3\" class=\"data row7 col3\" >845000.000000</td>\n",
       "      <td id=\"T_c156b_row7_col4\" class=\"data row7 col4\" >49.000000</td>\n",
       "      <td id=\"T_c156b_row7_col5\" class=\"data row7 col5\" >479254772.000000</td>\n",
       "      <td id=\"T_c156b_row7_col6\" class=\"data row7 col6\" >56033000100.000000</td>\n",
       "    </tr>\n",
       "  </tbody>\n",
       "</table>\n"
      ],
      "text/plain": [
       "<pandas.io.formats.style.Styler at 0x2101aa88a30>"
      ]
     },
     "execution_count": 13,
     "metadata": {},
     "output_type": "execute_result"
    }
   ],
   "source": [
    "df.describe().style.background_gradient(cmap='Blues')"
   ]
  },
  {
   "cell_type": "code",
   "execution_count": 15,
   "metadata": {},
   "outputs": [
    {
     "data": {
      "text/plain": [
       "VIN (1-10)                                             0\n",
       "County                                                 1\n",
       "City                                                   1\n",
       "State                                                  0\n",
       "Postal Code                                            1\n",
       "Model Year                                             0\n",
       "Make                                                   0\n",
       "Model                                                  7\n",
       "Electric Vehicle Type                                  0\n",
       "Clean Alternative Fuel Vehicle (CAFV) Eligibility      0\n",
       "Electric Range                                         0\n",
       "Base MSRP                                              0\n",
       "Legislative District                                 276\n",
       "DOL Vehicle ID                                         0\n",
       "Vehicle Location                                      25\n",
       "Electric Utility                                     428\n",
       "2020 Census Tract                                      1\n",
       "dtype: int64"
      ]
     },
     "execution_count": 15,
     "metadata": {},
     "output_type": "execute_result"
    }
   ],
   "source": [
    "# Now check the missing values in the dataset\n",
    "df.isnull().sum()"
   ]
  },
  {
   "cell_type": "code",
   "execution_count": 16,
   "metadata": {},
   "outputs": [
    {
     "data": {
      "text/plain": [
       "Electric Utility                                     428\n",
       "Legislative District                                 276\n",
       "Vehicle Location                                      25\n",
       "Model                                                  7\n",
       "2020 Census Tract                                      1\n",
       "Postal Code                                            1\n",
       "County                                                 1\n",
       "City                                                   1\n",
       "VIN (1-10)                                             0\n",
       "Electric Vehicle Type                                  0\n",
       "Make                                                   0\n",
       "Model Year                                             0\n",
       "State                                                  0\n",
       "Base MSRP                                              0\n",
       "Electric Range                                         0\n",
       "Clean Alternative Fuel Vehicle (CAFV) Eligibility      0\n",
       "DOL Vehicle ID                                         0\n",
       "dtype: int64"
      ]
     },
     "execution_count": 16,
     "metadata": {},
     "output_type": "execute_result"
    }
   ],
   "source": [
    "# for better visualization\n",
    "df.isnull().sum().sort_values(ascending = False)"
   ]
  },
  {
   "cell_type": "markdown",
   "metadata": {},
   "source": [
    "columns like Electric Utility and  Legislative District has the missing value "
   ]
  },
  {
   "cell_type": "markdown",
   "metadata": {},
   "source": [
    "### 2. Exploratory Data Analysis and Visualization"
   ]
  },
  {
   "cell_type": "code",
   "execution_count": 17,
   "metadata": {},
   "outputs": [
    {
     "data": {
      "image/png": "[encoded data removed]",
      "text/plain": [
       "<Figure size 1500x600 with 1 Axes>"
      ]
     },
     "metadata": {},
     "output_type": "display_data"
    }
   ],
   "source": [
    "# Set the figure size\n",
    "plt.rcParams['figure.figsize'] = (15, 6)\n",
    "\n",
    "# Plot the heatmap\n",
    "sns.heatmap(df.isnull(), yticklabels=False, cbar=False, cmap='viridis')\n",
    "\n",
    "# Add a title\n",
    "plt.title(\"Missing Null Values\", fontsize=16)\n",
    "\n",
    "# Display the plot\n",
    "plt.show()"
   ]
  },
  {
   "cell_type": "code",
   "execution_count": 18,
   "metadata": {},
   "outputs": [
    {
     "data": {
      "text/plain": [
       "Electric Utility                                     0.390935\n",
       "Legislative District                                 0.252099\n",
       "Vehicle Location                                     0.022835\n",
       "Model                                                0.006394\n",
       "2020 Census Tract                                    0.000913\n",
       "Postal Code                                          0.000913\n",
       "County                                               0.000913\n",
       "City                                                 0.000913\n",
       "VIN (1-10)                                           0.000000\n",
       "Electric Vehicle Type                                0.000000\n",
       "Make                                                 0.000000\n",
       "Model Year                                           0.000000\n",
       "State                                                0.000000\n",
       "Base MSRP                                            0.000000\n",
       "Electric Range                                       0.000000\n",
       "Clean Alternative Fuel Vehicle (CAFV) Eligibility    0.000000\n",
       "DOL Vehicle ID                                       0.000000\n",
       "dtype: float64"
      ]
     },
     "execution_count": 18,
     "metadata": {},
     "output_type": "execute_result"
    }
   ],
   "source": [
    "#calculates the percentage of missing (null) values for each column in the dataset and sorts them in descending order. \n",
    "missing_percentage = (df.isnull().sum().sort_values(ascending = False)/len(df))*100\n",
    "missing_percentage"
   ]
  },
  {
   "cell_type": "markdown",
   "metadata": {},
   "source": [
    "### Dealing with the null values:\n",
    "\n",
    "* **Electric Utility:** null values will be filled with text 'Utility Not Avalilable'\n",
    "* **Legislative District:** null values will be filled with text 'Unknown'\n",
    "* **Vehicle Location:** null values will be filled with text 'Unknown'\n",
    "* **Model:** null values will be filled with text 'Unknown'\n",
    "* **2020 Census Tract:** null values will be filled with text 'Unknown'\n",
    "* **City:** null values will be filled with text 'Unknown'\n",
    "* **Postal Code:** null values will be filled with mean()\n",
    "* **County:** null values will be filled with text 'Unknown'"
   ]
  },
  {
   "cell_type": "code",
   "execution_count": 19,
   "metadata": {},
   "outputs": [],
   "source": [
    "df['Electric Utility'] = df['Electric Utility'].fillna('Utility Not Avalilable')\n",
    "df['Legislative District'] = df['Legislative District'].fillna('Unknown')\n",
    "df['Vehicle Location'] = df['Vehicle Location'].fillna('Unknown')\n",
    "df['Model'] = df['Model'].fillna('Unknown')\n",
    "df['2020 Census Tract'] = df['2020 Census Tract'].fillna('Unknown')\n",
    "df['City'] = df['City'].fillna('Unknown')\n",
    "\n",
    "# fill null values in the 'Postal Code' column with the mean salary\n",
    "mean_postcode = df['Postal Code'].mean()\n",
    "df['Postal Code'] = df['Postal Code'].fillna(mean_postcode)\n",
    "\n",
    "df['County'] = df['County'].fillna('Unknown')"
   ]
  },
  {
   "cell_type": "code",
   "execution_count": 21,
   "metadata": {},
   "outputs": [
    {
     "data": {
      "text/plain": [
       "VIN (1-10)                                           0.0\n",
       "County                                               0.0\n",
       "City                                                 0.0\n",
       "State                                                0.0\n",
       "Postal Code                                          0.0\n",
       "Model Year                                           0.0\n",
       "Make                                                 0.0\n",
       "Model                                                0.0\n",
       "Electric Vehicle Type                                0.0\n",
       "Clean Alternative Fuel Vehicle (CAFV) Eligibility    0.0\n",
       "Electric Range                                       0.0\n",
       "Base MSRP                                            0.0\n",
       "Legislative District                                 0.0\n",
       "DOL Vehicle ID                                       0.0\n",
       "Vehicle Location                                     0.0\n",
       "Electric Utility                                     0.0\n",
       "2020 Census Tract                                    0.0\n",
       "dtype: float64"
      ]
     },
     "execution_count": 21,
     "metadata": {},
     "output_type": "execute_result"
    }
   ],
   "source": [
    "#calculates the percentage of missing (null) values for each column in the dataset and sorts them in descending order. \n",
    "missing_percentage1 = (df.isnull().sum().sort_values(ascending = False)/len(df))*100\n",
    "missing_percentage1"
   ]
  },
  {
   "cell_type": "code",
   "execution_count": 22,
   "metadata": {},
   "outputs": [],
   "source": [
    "# convert the 'Postal Code ' attribute from float to integer\n",
    "df['Postal Code'] = df['Postal Code'].astype(int)"
   ]
  },
  {
   "cell_type": "code",
   "execution_count": 23,
   "metadata": {},
   "outputs": [
    {
     "name": "stdout",
     "output_type": "stream",
     "text": [
      "<class 'pandas.core.frame.DataFrame'>\n",
      "RangeIndex: 109481 entries, 0 to 109480\n",
      "Data columns (total 17 columns):\n",
      " #   Column                                             Non-Null Count   Dtype \n",
      "---  ------                                             --------------   ----- \n",
      " 0   VIN (1-10)                                         109481 non-null  object\n",
      " 1   County                                             109481 non-null  object\n",
      " 2   City                                               109481 non-null  object\n",
      " 3   State                                              109481 non-null  object\n",
      " 4   Postal Code                                        109481 non-null  int64 \n",
      " 5   Model Year                                         109481 non-null  int64 \n",
      " 6   Make                                               109481 non-null  object\n",
      " 7   Model                                              109481 non-null  object\n",
      " 8   Electric Vehicle Type                              109481 non-null  object\n",
      " 9   Clean Alternative Fuel Vehicle (CAFV) Eligibility  109481 non-null  object\n",
      " 10  Electric Range                                     109481 non-null  int64 \n",
      " 11  Base MSRP                                          109481 non-null  int64 \n",
      " 12  Legislative District                               109481 non-null  object\n",
      " 13  DOL Vehicle ID                                     109481 non-null  int64 \n",
      " 14  Vehicle Location                                   109481 non-null  object\n",
      " 15  Electric Utility                                   109481 non-null  object\n",
      " 16  2020 Census Tract                                  109481 non-null  object\n",
      "dtypes: int64(5), object(12)\n",
      "memory usage: 14.2+ MB\n"
     ]
    }
   ],
   "source": [
    "df.info()"
   ]
  },
  {
   "cell_type": "markdown",
   "metadata": {},
   "source": [
    "### Dealing with the column names with spaces in between them\n",
    "\n",
    "Athough its not a critical issue, but for the ease of coding & readability., We will rename the following columns to remove any extra space in column names:\n",
    "\n",
    "* **Postal Code:** PostalCode\n",
    "* **Model Year:** ModelYear\n",
    "* **Electric Vehicle Type:** Electric_Vehicle_Type\n",
    "* **Clean Alternative Fuel Vehicle (CAFV) Eligibility:** CAFV_Eligibility\n",
    "* **Electric Range:** Electric_Range\n",
    "* **Base MSRP:** Base_MSRP\n",
    "* **Legislative District:** Legislative_District\n",
    "* **DOL Vehicle ID:** DOL_Vehicle_ID\n",
    "* **Vehicle Location:** Vehicle_Location\n",
    "* **Electric Utility:** Electric_Utility\n",
    "* **2020 Census Tract:** 2020_Census_Tract\n",
    "* **VIN (1-10):** VIN"
   ]
  },
  {
   "cell_type": "code",
   "execution_count": 24,
   "metadata": {},
   "outputs": [
    {
     "name": "stdout",
     "output_type": "stream",
     "text": [
      "Index(['VIN', 'County', 'City', 'State', 'PostalCode', 'ModelYear', 'Make',\n",
      "       'Model', 'Electric_Vehicle_Type', 'CAFV_Eligibility', 'Electric_Range',\n",
      "       'Base_MSRP', 'Legislative_District', 'DOL_Vehicle_ID',\n",
      "       'Vehicle_Location', 'Electric_Utility', '2020_Census_Tract'],\n",
      "      dtype='object')\n"
     ]
    }
   ],
   "source": [
    "# rename columns \n",
    "df = df.rename(columns={'Postal Code': 'PostalCode', 'Model Year': 'ModelYear', 'Electric Vehicle Type': 'Electric_Vehicle_Type', \n",
    "                        'Clean Alternative Fuel Vehicle (CAFV) Eligibility': 'CAFV_Eligibility',\n",
    "                        'Electric Range':'Electric_Range', 'Base MSRP': 'Base_MSRP', 'Legislative District':'Legislative_District',\n",
    "                        'DOL Vehicle ID': 'DOL_Vehicle_ID',\n",
    "                        'Vehicle Location':'Vehicle_Location',\n",
    "                        'Electric Utility':'Electric_Utility',\n",
    "                        '2020 Census Tract':'2020_Census_Tract',\n",
    "                        'VIN (1-10)':'VIN'})\n",
    "print(df.columns)"
   ]
  },
  {
   "cell_type": "code",
   "execution_count": 25,
   "metadata": {},
   "outputs": [
    {
     "data": {
      "text/plain": [
       "VIN                      0\n",
       "County                   0\n",
       "City                     0\n",
       "State                    0\n",
       "PostalCode               0\n",
       "ModelYear                0\n",
       "Make                     0\n",
       "Model                    0\n",
       "Electric_Vehicle_Type    0\n",
       "CAFV_Eligibility         0\n",
       "Electric_Range           0\n",
       "Base_MSRP                0\n",
       "Legislative_District     0\n",
       "DOL_Vehicle_ID           0\n",
       "Vehicle_Location         0\n",
       "Electric_Utility         0\n",
       "2020_Census_Tract        0\n",
       "dtype: int64"
      ]
     },
     "execution_count": 25,
     "metadata": {},
     "output_type": "execute_result"
    }
   ],
   "source": [
    "# have a view of refreshed dataset again\n",
    "df.isnull().sum().sort_values(ascending = False)"
   ]
  },
  {
   "cell_type": "code",
   "execution_count": 26,
   "metadata": {},
   "outputs": [
    {
     "data": {
      "text/plain": [
       "np.False_"
      ]
     },
     "execution_count": 26,
     "metadata": {},
     "output_type": "execute_result"
    }
   ],
   "source": [
    "# Find duplications and Analyse them if its a valid Duplication.\n",
    "df.duplicated().any()"
   ]
  },
  {
   "cell_type": "code",
   "execution_count": 27,
   "metadata": {},
   "outputs": [
    {
     "data": {
      "text/plain": [
       "Index(['VIN', 'County', 'City', 'State', 'PostalCode', 'ModelYear', 'Make',\n",
       "       'Model', 'Electric_Vehicle_Type', 'CAFV_Eligibility', 'Electric_Range',\n",
       "       'Base_MSRP', 'Legislative_District', 'DOL_Vehicle_ID',\n",
       "       'Vehicle_Location', 'Electric_Utility', '2020_Census_Tract'],\n",
       "      dtype='object')"
      ]
     },
     "execution_count": 27,
     "metadata": {},
     "output_type": "execute_result"
    }
   ],
   "source": [
    "df.columns.unique()"
   ]
  },
  {
   "cell_type": "code",
   "execution_count": 28,
   "metadata": {},
   "outputs": [],
   "source": [
    "any_duplicates = df.duplicated(subset=['VIN', 'County', 'City', 'State', 'PostalCode', 'ModelYear', 'Make',\n",
    "       'Model', 'Electric_Vehicle_Type', 'CAFV_Eligibility', 'Electric_Range',\n",
    "       'Base_MSRP', 'Legislative_District', 'DOL_Vehicle_ID',\n",
    "       'Vehicle_Location', 'Electric_Utility', '2020_Census_Tract']).any()"
   ]
  },
  {
   "cell_type": "code",
   "execution_count": 29,
   "metadata": {},
   "outputs": [
    {
     "data": {
      "text/plain": [
       "np.False_"
      ]
     },
     "execution_count": 29,
     "metadata": {},
     "output_type": "execute_result"
    }
   ],
   "source": [
    "any_duplicates"
   ]
  },
  {
   "cell_type": "markdown",
   "metadata": {},
   "source": [
    "No any duplicates values are found"
   ]
  },
  {
   "cell_type": "code",
   "execution_count": 30,
   "metadata": {},
   "outputs": [
    {
     "data": {
      "text/html": [
       "<style type=\"text/css\">\n",
       "#T_1e36a_row0_col0, #T_1e36a_row0_col1, #T_1e36a_row0_col2, #T_1e36a_row7_col3, #T_1e36a_row7_col4 {\n",
       "  background-color: #08306b;\n",
       "  color: #f1f1f1;\n",
       "}\n",
       "#T_1e36a_row0_col3 {\n",
       "  background-color: #ddeaf7;\n",
       "  color: #000000;\n",
       "}\n",
       "#T_1e36a_row0_col4, #T_1e36a_row1_col2, #T_1e36a_row1_col3, #T_1e36a_row2_col1, #T_1e36a_row2_col2, #T_1e36a_row3_col0, #T_1e36a_row3_col2, #T_1e36a_row3_col3, #T_1e36a_row3_col4, #T_1e36a_row4_col2, #T_1e36a_row4_col3, #T_1e36a_row5_col2, #T_1e36a_row5_col3, #T_1e36a_row6_col2, #T_1e36a_row6_col3, #T_1e36a_row7_col2 {\n",
       "  background-color: #f7fbff;\n",
       "  color: #000000;\n",
       "}\n",
       "#T_1e36a_row1_col0, #T_1e36a_row5_col0, #T_1e36a_row6_col0 {\n",
       "  background-color: #084b93;\n",
       "  color: #f1f1f1;\n",
       "}\n",
       "#T_1e36a_row1_col1, #T_1e36a_row3_col1, #T_1e36a_row4_col1, #T_1e36a_row5_col1, #T_1e36a_row6_col1, #T_1e36a_row7_col1 {\n",
       "  background-color: #f4f9fe;\n",
       "  color: #000000;\n",
       "}\n",
       "#T_1e36a_row1_col4 {\n",
       "  background-color: #8dc1dd;\n",
       "  color: #000000;\n",
       "}\n",
       "#T_1e36a_row2_col0 {\n",
       "  background-color: #f5fafe;\n",
       "  color: #000000;\n",
       "}\n",
       "#T_1e36a_row2_col3 {\n",
       "  background-color: #f5f9fe;\n",
       "  color: #000000;\n",
       "}\n",
       "#T_1e36a_row2_col4 {\n",
       "  background-color: #d0e1f2;\n",
       "  color: #000000;\n",
       "}\n",
       "#T_1e36a_row4_col0 {\n",
       "  background-color: #084c95;\n",
       "  color: #f1f1f1;\n",
       "}\n",
       "#T_1e36a_row4_col4 {\n",
       "  background-color: #b4d3e9;\n",
       "  color: #000000;\n",
       "}\n",
       "#T_1e36a_row5_col4 {\n",
       "  background-color: #97c6df;\n",
       "  color: #000000;\n",
       "}\n",
       "#T_1e36a_row6_col4 {\n",
       "  background-color: #7fb9da;\n",
       "  color: #000000;\n",
       "}\n",
       "#T_1e36a_row7_col0 {\n",
       "  background-color: #08488e;\n",
       "  color: #f1f1f1;\n",
       "}\n",
       "</style>\n",
       "<table id=\"T_1e36a\">\n",
       "  <thead>\n",
       "    <tr>\n",
       "      <th class=\"blank level0\" >&nbsp;</th>\n",
       "      <th id=\"T_1e36a_level0_col0\" class=\"col_heading level0 col0\" >PostalCode</th>\n",
       "      <th id=\"T_1e36a_level0_col1\" class=\"col_heading level0 col1\" >ModelYear</th>\n",
       "      <th id=\"T_1e36a_level0_col2\" class=\"col_heading level0 col2\" >Electric_Range</th>\n",
       "      <th id=\"T_1e36a_level0_col3\" class=\"col_heading level0 col3\" >Base_MSRP</th>\n",
       "      <th id=\"T_1e36a_level0_col4\" class=\"col_heading level0 col4\" >DOL_Vehicle_ID</th>\n",
       "    </tr>\n",
       "  </thead>\n",
       "  <tbody>\n",
       "    <tr>\n",
       "      <th id=\"T_1e36a_level0_row0\" class=\"row_heading level0 row0\" >count</th>\n",
       "      <td id=\"T_1e36a_row0_col0\" class=\"data row0 col0\" >109481.000000</td>\n",
       "      <td id=\"T_1e36a_row0_col1\" class=\"data row0 col1\" >109481.000000</td>\n",
       "      <td id=\"T_1e36a_row0_col2\" class=\"data row0 col2\" >109481.000000</td>\n",
       "      <td id=\"T_1e36a_row0_col3\" class=\"data row0 col3\" >109481.000000</td>\n",
       "      <td id=\"T_1e36a_row0_col4\" class=\"data row0 col4\" >109481.000000</td>\n",
       "    </tr>\n",
       "    <tr>\n",
       "      <th id=\"T_1e36a_level0_row1\" class=\"row_heading level0 row1\" >mean</th>\n",
       "      <td id=\"T_1e36a_row1_col0\" class=\"data row1 col0\" >98157.012943</td>\n",
       "      <td id=\"T_1e36a_row1_col1\" class=\"data row1 col1\" >2018.899197</td>\n",
       "      <td id=\"T_1e36a_row1_col2\" class=\"data row1 col2\" >90.211425</td>\n",
       "      <td id=\"T_1e36a_row1_col3\" class=\"data row1 col3\" >1849.194609</td>\n",
       "      <td id=\"T_1e36a_row1_col4\" class=\"data row1 col4\" >198447551.859601</td>\n",
       "    </tr>\n",
       "    <tr>\n",
       "      <th id=\"T_1e36a_level0_row2\" class=\"row_heading level0 row2\" >std</th>\n",
       "      <td id=\"T_1e36a_row2_col0\" class=\"data row2 col0\" >2640.593443</td>\n",
       "      <td id=\"T_1e36a_row2_col1\" class=\"data row2 col1\" >2.872853</td>\n",
       "      <td id=\"T_1e36a_row2_col2\" class=\"data row2 col2\" >102.575715</td>\n",
       "      <td id=\"T_1e36a_row2_col3\" class=\"data row2 col3\" >10946.085012</td>\n",
       "      <td id=\"T_1e36a_row2_col4\" class=\"data row2 col4\" >95617186.541589</td>\n",
       "    </tr>\n",
       "    <tr>\n",
       "      <th id=\"T_1e36a_level0_row3\" class=\"row_heading level0 row3\" >min</th>\n",
       "      <td id=\"T_1e36a_row3_col0\" class=\"data row3 col0\" >1730.000000</td>\n",
       "      <td id=\"T_1e36a_row3_col1\" class=\"data row3 col1\" >1997.000000</td>\n",
       "      <td id=\"T_1e36a_row3_col2\" class=\"data row3 col2\" >0.000000</td>\n",
       "      <td id=\"T_1e36a_row3_col3\" class=\"data row3 col3\" >0.000000</td>\n",
       "      <td id=\"T_1e36a_row3_col4\" class=\"data row3 col4\" >4777.000000</td>\n",
       "    </tr>\n",
       "    <tr>\n",
       "      <th id=\"T_1e36a_level0_row4\" class=\"row_heading level0 row4\" >25%</th>\n",
       "      <td id=\"T_1e36a_row4_col0\" class=\"data row4 col0\" >98052.000000</td>\n",
       "      <td id=\"T_1e36a_row4_col1\" class=\"data row4 col1\" >2017.000000</td>\n",
       "      <td id=\"T_1e36a_row4_col2\" class=\"data row4 col2\" >0.000000</td>\n",
       "      <td id=\"T_1e36a_row4_col3\" class=\"data row4 col3\" >0.000000</td>\n",
       "      <td id=\"T_1e36a_row4_col4\" class=\"data row4 col4\" >146731322.000000</td>\n",
       "    </tr>\n",
       "    <tr>\n",
       "      <th id=\"T_1e36a_level0_row5\" class=\"row_heading level0 row5\" >50%</th>\n",
       "      <td id=\"T_1e36a_row5_col0\" class=\"data row5 col0\" >98121.000000</td>\n",
       "      <td id=\"T_1e36a_row5_col1\" class=\"data row5 col1\" >2019.000000</td>\n",
       "      <td id=\"T_1e36a_row5_col2\" class=\"data row5 col2\" >35.000000</td>\n",
       "      <td id=\"T_1e36a_row5_col3\" class=\"data row5 col3\" >0.000000</td>\n",
       "      <td id=\"T_1e36a_row5_col4\" class=\"data row5 col4\" >187411808.000000</td>\n",
       "    </tr>\n",
       "    <tr>\n",
       "      <th id=\"T_1e36a_level0_row6\" class=\"row_heading level0 row6\" >75%</th>\n",
       "      <td id=\"T_1e36a_row6_col0\" class=\"data row6 col0\" >98370.000000</td>\n",
       "      <td id=\"T_1e36a_row6_col1\" class=\"data row6 col1\" >2021.000000</td>\n",
       "      <td id=\"T_1e36a_row6_col2\" class=\"data row6 col2\" >208.000000</td>\n",
       "      <td id=\"T_1e36a_row6_col3\" class=\"data row6 col3\" >0.000000</td>\n",
       "      <td id=\"T_1e36a_row6_col4\" class=\"data row6 col4\" >216917571.000000</td>\n",
       "    </tr>\n",
       "    <tr>\n",
       "      <th id=\"T_1e36a_level0_row7\" class=\"row_heading level0 row7\" >max</th>\n",
       "      <td id=\"T_1e36a_row7_col0\" class=\"data row7 col0\" >99701.000000</td>\n",
       "      <td id=\"T_1e36a_row7_col1\" class=\"data row7 col1\" >2023.000000</td>\n",
       "      <td id=\"T_1e36a_row7_col2\" class=\"data row7 col2\" >337.000000</td>\n",
       "      <td id=\"T_1e36a_row7_col3\" class=\"data row7 col3\" >845000.000000</td>\n",
       "      <td id=\"T_1e36a_row7_col4\" class=\"data row7 col4\" >479254772.000000</td>\n",
       "    </tr>\n",
       "  </tbody>\n",
       "</table>\n"
      ],
      "text/plain": [
       "<pandas.io.formats.style.Styler at 0x2101a984b20>"
      ]
     },
     "execution_count": 30,
     "metadata": {},
     "output_type": "execute_result"
    }
   ],
   "source": [
    "# Describe the dataset\n",
    "df.describe().style.background_gradient(cmap='Blues')"
   ]
  },
  {
   "cell_type": "markdown",
   "metadata": {},
   "source": [
    "#### Now Let's check how numerical values are correlated ot each other"
   ]
  },
  {
   "cell_type": "code",
   "execution_count": 32,
   "metadata": {},
   "outputs": [],
   "source": [
    "numeric_df = df.select_dtypes(include=['float64', 'int64'])\n"
   ]
  },
  {
   "cell_type": "code",
   "execution_count": 33,
   "metadata": {},
   "outputs": [
    {
     "data": {
      "image/png": "[encoded data removed]",
      "text/plain": [
       "<Figure size 1500x600 with 2 Axes>"
      ]
     },
     "metadata": {},
     "output_type": "display_data"
    }
   ],
   "source": [
    "# checking the corrlation of all the attributes with target\n",
    "plt.figure(figsize=(15, 6))\n",
    "cmap = \"cividis\"\n",
    "heatmap = sns.heatmap(numeric_df.corr(), cmap=cmap, annot=True)\n",
    "heatmap.set_title('Electric Vehicle Correlation with Heatmap', fontdict={'fontsize':12}, pad=12)\n",
    "plt.show()"
   ]
  },
  {
   "cell_type": "markdown",
   "metadata": {},
   "source": [
    "### 2.2 Distribution of numerical variables\n",
    "ModelYear, Electric_Range, Base_MSRP, DOL_Vehicle_ID"
   ]
  },
  {
   "cell_type": "code",
   "execution_count": 34,
   "metadata": {},
   "outputs": [
    {
     "data": {
      "text/plain": [
       "Text(0, 0.5, 'Count')"
      ]
     },
     "execution_count": 34,
     "metadata": {},
     "output_type": "execute_result"
    },
    {
     "data": {
      "image/png": "[encoded data removed]",
      "text/plain": [
       "<Figure size 1500x600 with 1 Axes>"
      ]
     },
     "metadata": {},
     "output_type": "display_data"
    }
   ],
   "source": [
    "# Create a histogram of the PostalCode variable\n",
    "plt.hist(df[\"ModelYear\"], bins=10, edgecolor='blue')\n",
    "plt.xlabel(\"ModelYear\")\n",
    "plt.ylabel(\"Count\")"
   ]
  },
  {
   "cell_type": "code",
   "execution_count": 36,
   "metadata": {},
   "outputs": [
    {
     "data": {
      "text/plain": [
       "Text(0, 0.5, 'Count')"
      ]
     },
     "execution_count": 36,
     "metadata": {},
     "output_type": "execute_result"
    },
    {
     "data": {
      "image/png": "[encoded data removed]",
      "text/plain": [
       "<Figure size 1500x600 with 1 Axes>"
      ]
     },
     "metadata": {},
     "output_type": "display_data"
    }
   ],
   "source": [
    "#Now  plot Histogram to check the normality and distribution of Model Year attribute\n",
    "plt.hist(df[\"Electric_Range\"],bins=10,edgecolor='blue')\n",
    "plt.xlabel(\"Electric_Range\")\n",
    "plt.ylabel(\"Count\")"
   ]
  },
  {
   "cell_type": "code",
   "execution_count": 37,
   "metadata": {},
   "outputs": [
    {
     "data": {
      "text/plain": [
       "Text(0, 0.5, 'Count')"
      ]
     },
     "execution_count": 37,
     "metadata": {},
     "output_type": "execute_result"
    },
    {
     "data": {
      "image/png": "[encoded data removed]",
      "text/plain": [
       "<Figure size 1500x600 with 1 Axes>"
      ]
     },
     "metadata": {},
     "output_type": "display_data"
    }
   ],
   "source": [
    "# Now plot the Histogram  to check the normality and distribution of Electric Range of the Cars in one charge\n",
    "plt.hist(df[\"Base_MSRP\"],bins=20,edgecolor='blue')\n",
    "plt.xlabel(\"Base_MSRP\")\n",
    "plt.ylabel(\"Count\")"
   ]
  },
  {
   "cell_type": "code",
   "execution_count": 38,
   "metadata": {},
   "outputs": [
    {
     "data": {
      "text/plain": [
       "Text(0, 0.5, 'Count')"
      ]
     },
     "execution_count": 38,
     "metadata": {},
     "output_type": "execute_result"
    },
    {
     "data": {
      "image/png": "[encoded data removed]",
      "text/plain": [
       "<Figure size 1500x600 with 1 Axes>"
      ]
     },
     "metadata": {},
     "output_type": "display_data"
    }
   ],
   "source": [
    "# Now plot the Histogram  to check the normality and distribution of Base MRP\n",
    "plt.hist(df[\"DOL_Vehicle_ID\"],bins=20, edgecolor='blue')\n",
    "plt.xlabel(\"DOL_Vehicle_ID\")\n",
    "plt.ylabel(\"Count\")"
   ]
  },
  {
   "cell_type": "markdown",
   "metadata": {},
   "source": [
    "#### Observation \n",
    "From the histogram plots we can observe\n",
    "\n",
    "* Although the Base MSRP column is very important, however the vendors have not provided this information. Therefore we will drop it\n",
    "* The electric range colum of around 50K cars are not provided with legit information. Instead it is filled with zero"
   ]
  },
  {
   "cell_type": "code",
   "execution_count": 40,
   "metadata": {},
   "outputs": [
    {
     "data": {
      "text/plain": [
       "array([     0,  31950,  69900,  34995,  59900,  32250,  33950,  39995,\n",
       "        36900,  64950,  52900,  54950,  55700,  45600,  52650, 184400,\n",
       "       110950,  44100,  75095,  36800,  43700, 102000,  98950,  90700,\n",
       "        81100, 109000,  53400,  89100,  91250, 845000])"
      ]
     },
     "execution_count": 40,
     "metadata": {},
     "output_type": "execute_result"
    }
   ],
   "source": [
    "df['Base_MSRP'].unique()"
   ]
  },
  {
   "cell_type": "code",
   "execution_count": 41,
   "metadata": {},
   "outputs": [
    {
     "name": "stdout",
     "output_type": "stream",
     "text": [
      "<class 'pandas.core.frame.DataFrame'>\n",
      "RangeIndex: 109481 entries, 0 to 109480\n",
      "Data columns (total 16 columns):\n",
      " #   Column                 Non-Null Count   Dtype \n",
      "---  ------                 --------------   ----- \n",
      " 0   VIN                    109481 non-null  object\n",
      " 1   County                 109481 non-null  object\n",
      " 2   City                   109481 non-null  object\n",
      " 3   State                  109481 non-null  object\n",
      " 4   PostalCode             109481 non-null  int64 \n",
      " 5   ModelYear              109481 non-null  int64 \n",
      " 6   Make                   109481 non-null  object\n",
      " 7   Model                  109481 non-null  object\n",
      " 8   Electric_Vehicle_Type  109481 non-null  object\n",
      " 9   CAFV_Eligibility       109481 non-null  object\n",
      " 10  Electric_Range         109481 non-null  int64 \n",
      " 11  Legislative_District   109481 non-null  object\n",
      " 12  DOL_Vehicle_ID         109481 non-null  int64 \n",
      " 13  Vehicle_Location       109481 non-null  object\n",
      " 14  Electric_Utility       109481 non-null  object\n",
      " 15  2020_Census_Tract      109481 non-null  object\n",
      "dtypes: int64(4), object(12)\n",
      "memory usage: 13.4+ MB\n"
     ]
    }
   ],
   "source": [
    "df.drop('Base_MSRP', axis=1, inplace=True)\n",
    "df.info()"
   ]
  },
  {
   "cell_type": "markdown",
   "metadata": {},
   "source": [
    "#### Now deal with column Electric Utility\n",
    "We Can present the information stored in the Electric Utility: |, || ,Utility Not Avalilable and just one utility optionn as: However, before any renaming. We will see the health of the attribute in terms of NULL values\n",
    "\n",
    "* Not Available\"\n",
    "* Single Type Utilities\"\n",
    "* \"Multi type Utilities\"\n",
    "* \"Only One Option\""
   ]
  },
  {
   "cell_type": "code",
   "execution_count": 42,
   "metadata": {},
   "outputs": [
    {
     "data": {
      "text/plain": [
       "array(['Utility Not Avalilable', 'PUD NO 1 OF CHELAN COUNTY',\n",
       "       'PUGET SOUND ENERGY INC',\n",
       "       'CITY OF SEATTLE - (WA)|CITY OF TACOMA - (WA)', 'PACIFICORP',\n",
       "       'PUGET SOUND ENERGY INC||CITY OF TACOMA - (WA)',\n",
       "       'PUD NO 2 OF GRANT COUNTY', 'AVISTA CORP',\n",
       "       'MODERN ELECTRIC WATER COMPANY',\n",
       "       'BONNEVILLE POWER ADMINISTRATION||PUD 1 OF SNOHOMISH COUNTY',\n",
       "       'BONNEVILLE POWER ADMINISTRATION||PUD NO 1 OF CLARK COUNTY - (WA)',\n",
       "       'BONNEVILLE POWER ADMINISTRATION||PUD NO 2 OF PACIFIC COUNTY',\n",
       "       'BONNEVILLE POWER ADMINISTRATION||PUGET SOUND ENERGY INC||PUD NO 1 OF JEFFERSON COUNTY',\n",
       "       'PUGET SOUND ENERGY INC||PUD NO 1 OF WHATCOM COUNTY',\n",
       "       'BONNEVILLE POWER ADMINISTRATION||CITY OF TACOMA - (WA)||PENINSULA LIGHT COMPANY',\n",
       "       'BONNEVILLE POWER ADMINISTRATION||AVISTA CORP||INLAND POWER & LIGHT COMPANY',\n",
       "       'BONNEVILLE POWER ADMINISTRATION||PACIFICORP||PUD NO 1 OF CLARK COUNTY - (WA)',\n",
       "       'BONNEVILLE POWER ADMINISTRATION||CITY OF TACOMA - (WA)||PUD NO 1 OF LEWIS COUNTY',\n",
       "       'BONNEVILLE POWER ADMINISTRATION||CITY OF TACOMA - (WA)||PARKLAND LIGHT & WATER COMPANY|PENINSULA LIGHT COMPANY',\n",
       "       'BONNEVILLE POWER ADMINISTRATION||CITY OF TACOMA - (WA)||PUD NO 3 OF MASON COUNTY',\n",
       "       'BONNEVILLE POWER ADMINISTRATION||ORCAS POWER & LIGHT COOP',\n",
       "       'BONNEVILLE POWER ADMINISTRATION||TOWN OF RUSTON - (WA)|CITY OF TACOMA - (WA)||PENINSULA LIGHT COMPANY',\n",
       "       'PUD NO 1 OF PEND OREILLE COUNTY',\n",
       "       'BONNEVILLE POWER ADMINISTRATION||PUD NO 1 OF BENTON COUNTY',\n",
       "       'BONNEVILLE POWER ADMINISTRATION||VERA IRRIGATION DISTRICT #15',\n",
       "       'BONNEVILLE POWER ADMINISTRATION||CITY OF CENTRALIA - (WA)|CITY OF TACOMA - (WA)',\n",
       "       'BONNEVILLE POWER ADMINISTRATION||PUD NO 1 OF CLALLAM COUNTY',\n",
       "       'BONNEVILLE POWER ADMINISTRATION||PUD NO 1 OF GRAYS HARBOR COUNTY',\n",
       "       'PUD NO 1 OF DOUGLAS COUNTY',\n",
       "       'BONNEVILLE POWER ADMINISTRATION||PUD NO 1 OF KLICKITAT COUNTY',\n",
       "       'OKANOGAN COUNTY ELEC COOP, INC',\n",
       "       'BONNEVILLE POWER ADMINISTRATION||CITY OF RICHLAND - (WA)',\n",
       "       'BONNEVILLE POWER ADMINISTRATION||AVISTA CORP||BIG BEND ELECTRIC COOP, INC',\n",
       "       'BONNEVILLE POWER ADMINISTRATION||CITY OF PORT ANGELES - (WA)',\n",
       "       'BONNEVILLE POWER ADMINISTRATION||PUD NO 1 OF COWLITZ COUNTY',\n",
       "       'BONNEVILLE POWER ADMINISTRATION||CITY OF TACOMA - (WA)||ELMHURST MUTUAL POWER & LIGHT CO|PENINSULA LIGHT COMPANY',\n",
       "       'BONNEVILLE POWER ADMINISTRATION||PUD NO 1 OF SKAMANIA CO',\n",
       "       'PUD NO 1 OF OKANOGAN COUNTY',\n",
       "       'BONNEVILLE POWER ADMINISTRATION||COLUMBIA RURAL ELEC ASSN, INC',\n",
       "       'CITY OF CHENEY - (WA)',\n",
       "       'BONNEVILLE POWER ADMINISTRATION||PUD NO 1 OF FERRY COUNTY',\n",
       "       'BONNEVILLE POWER ADMINISTRATION||PUD NO 1 OF FRANKLIN COUNTY',\n",
       "       'BONNEVILLE POWER ADMINISTRATION||AVISTA CORP||PUD NO 1 OF ASOTIN COUNTY',\n",
       "       'CITY OF TACOMA - (WA)||TANNER ELECTRIC COOP',\n",
       "       'BONNEVILLE POWER ADMINISTRATION||CITY OF TACOMA - (WA)||LAKEVIEW LIGHT & POWER|PENINSULA LIGHT COMPANY',\n",
       "       'CITY OF BLAINE - (WA)||PUD NO 1 OF WHATCOM COUNTY',\n",
       "       'BONNEVILLE POWER ADMINISTRATION||INLAND POWER & LIGHT COMPANY',\n",
       "       'BONNEVILLE POWER ADMINISTRATION||PACIFICORP||BENTON RURAL ELECTRIC ASSN',\n",
       "       'BONNEVILLE POWER ADMINISTRATION||TOWN OF STEILACOOM|CITY OF TACOMA - (WA)||PENINSULA LIGHT COMPANY',\n",
       "       'PUD NO 1 OF WHATCOM COUNTY',\n",
       "       'BONNEVILLE POWER ADMINISTRATION||CITY OF ELLENSBURG - (WA)',\n",
       "       'BONNEVILLE POWER ADMINISTRATION||CITY OF TACOMA - (WA)||PUD NO 1 OF MASON COUNTY',\n",
       "       'BONNEVILLE POWER ADMINISTRATION||PUD NO 1 OF WAHKIAKUM COUNTY',\n",
       "       'BONNEVILLE POWER ADMINISTRATION||PACIFICORP||COLUMBIA RURAL ELEC ASSN, INC',\n",
       "       'BONNEVILLE POWER ADMINISTRATION||PUD NO 1 OF KITTITAS COUNTY',\n",
       "       'BONNEVILLE POWER ADMINISTRATION||CITY OF MILTON - (WA)|CITY OF TACOMA - (WA)',\n",
       "       'BONNEVILLE POWER ADMINISTRATION||CITY OF TACOMA - (WA)||OHOP MUTUAL LIGHT COMPANY, INC|PENINSULA LIGHT COMPANY',\n",
       "       'BONNEVILLE POWER ADMINISTRATION||CITY OF MCCLEARY - (WA)',\n",
       "       'BONNEVILLE POWER ADMINISTRATION||BIG BEND ELECTRIC COOP, INC',\n",
       "       'BONNEVILLE POWER ADMINISTRATION||CITY OF TACOMA - (WA)||BENTON RURAL ELECTRIC ASSN|PENINSULA LIGHT COMPANY',\n",
       "       'BONNEVILLE POWER ADMINISTRATION||PUD NO 1 OF ASOTIN COUNTY||INLAND POWER & LIGHT COMPANY',\n",
       "       'BONNEVILLE POWER ADMINISTRATION||CITY OF COULEE DAM - (WA)',\n",
       "       'PORTLAND GENERAL ELECTRIC CO', 'CITY OF CHEWELAH',\n",
       "       'BONNEVILLE POWER ADMINISTRATION||PUD NO 1 OF MASON COUNTY|PUD NO 1 OF JEFFERSON COUNTY',\n",
       "       'CITY OF TACOMA - (WA)',\n",
       "       'BONNEVILLE POWER ADMINISTRATION||TOWN OF EATONVILLE - (WA)|CITY OF TACOMA - (WA)',\n",
       "       'CITY OF SUMAS - (WA)||PUD NO 1 OF WHATCOM COUNTY',\n",
       "       'BONNEVILLE POWER ADMINISTRATION||NESPELEM VALLEY ELEC COOP, INC',\n",
       "       'CITY OF SEATTLE - (WA)',\n",
       "       'BONNEVILLE POWER ADMINISTRATION||PENINSULA LIGHT COMPANY',\n",
       "       'BONNEVILLE POWER ADMINISTRATION||PUD NO 1 OF CLALLAM COUNTY|PUD NO 1 OF JEFFERSON COUNTY',\n",
       "       'BONNEVILLE POWER ADMINISTRATION||BENTON RURAL ELECTRIC ASSN'],\n",
       "      dtype=object)"
      ]
     },
     "execution_count": 42,
     "metadata": {},
     "output_type": "execute_result"
    }
   ],
   "source": [
    "df['Electric_Utility'].unique()"
   ]
  },
  {
   "cell_type": "code",
   "execution_count": 43,
   "metadata": {},
   "outputs": [],
   "source": [
    "def categorize_electric_utility(value):\n",
    "    if value == \"Utility Not Avalilable\":\n",
    "        return \"Not Available\"\n",
    "    elif \"||\" in value:\n",
    "        return \"Multi type Utilities\"\n",
    "    elif \"|\" in value:\n",
    "        return \"Single Type Utilities\"\n",
    "    else:\n",
    "        return \"Only One Option\"\n",
    "\n",
    "df['Electric_Utility_Category'] = df['Electric_Utility'].apply(categorize_electric_utility)"
   ]
  },
  {
   "cell_type": "code",
   "execution_count": 44,
   "metadata": {},
   "outputs": [
    {
     "data": {
      "text/plain": [
       "array(['Not Available', 'Only One Option', 'Single Type Utilities',\n",
       "       'Multi type Utilities'], dtype=object)"
      ]
     },
     "execution_count": 44,
     "metadata": {},
     "output_type": "execute_result"
    }
   ],
   "source": [
    "df['Electric_Utility_Category'].unique()"
   ]
  },
  {
   "cell_type": "code",
   "execution_count": 45,
   "metadata": {},
   "outputs": [
    {
     "data": {
      "text/html": [
       "<div>\n",
       "<style scoped>\n",
       "    .dataframe tbody tr th:only-of-type {\n",
       "        vertical-align: middle;\n",
       "    }\n",
       "\n",
       "    .dataframe tbody tr th {\n",
       "        vertical-align: top;\n",
       "    }\n",
       "\n",
       "    .dataframe thead th {\n",
       "        text-align: right;\n",
       "    }\n",
       "</style>\n",
       "<table border=\"1\" class=\"dataframe\">\n",
       "  <thead>\n",
       "    <tr style=\"text-align: right;\">\n",
       "      <th></th>\n",
       "      <th>VIN</th>\n",
       "      <th>County</th>\n",
       "      <th>City</th>\n",
       "      <th>State</th>\n",
       "      <th>PostalCode</th>\n",
       "      <th>ModelYear</th>\n",
       "      <th>Make</th>\n",
       "      <th>Model</th>\n",
       "      <th>Electric_Vehicle_Type</th>\n",
       "      <th>CAFV_Eligibility</th>\n",
       "      <th>Electric_Range</th>\n",
       "      <th>Legislative_District</th>\n",
       "      <th>DOL_Vehicle_ID</th>\n",
       "      <th>Vehicle_Location</th>\n",
       "      <th>Electric_Utility</th>\n",
       "      <th>2020_Census_Tract</th>\n",
       "      <th>Electric_Utility_Category</th>\n",
       "    </tr>\n",
       "  </thead>\n",
       "  <tbody>\n",
       "    <tr>\n",
       "      <th>0</th>\n",
       "      <td>3MW5P9J05N</td>\n",
       "      <td>Arapahoe</td>\n",
       "      <td>Englewood</td>\n",
       "      <td>CO</td>\n",
       "      <td>80111</td>\n",
       "      <td>2022</td>\n",
       "      <td>BMW</td>\n",
       "      <td>330E</td>\n",
       "      <td>Plug-in Hybrid Electric Vehicle (PHEV)</td>\n",
       "      <td>Not eligible due to low battery range</td>\n",
       "      <td>22</td>\n",
       "      <td>Unknown</td>\n",
       "      <td>200589147</td>\n",
       "      <td>POINT (-104.89239 39.61914)</td>\n",
       "      <td>Utility Not Avalilable</td>\n",
       "      <td>8005006861.0</td>\n",
       "      <td>Not Available</td>\n",
       "    </tr>\n",
       "    <tr>\n",
       "      <th>1</th>\n",
       "      <td>5YJXCBE27J</td>\n",
       "      <td>Island</td>\n",
       "      <td>Greenbank</td>\n",
       "      <td>WA</td>\n",
       "      <td>98253</td>\n",
       "      <td>2018</td>\n",
       "      <td>TESLA</td>\n",
       "      <td>MODEL X</td>\n",
       "      <td>Battery Electric Vehicle (BEV)</td>\n",
       "      <td>Clean Alternative Fuel Vehicle Eligible</td>\n",
       "      <td>238</td>\n",
       "      <td>10.0</td>\n",
       "      <td>326880081</td>\n",
       "      <td>POINT (-122.575569 48.08489)</td>\n",
       "      <td>Utility Not Avalilable</td>\n",
       "      <td>53029971302.0</td>\n",
       "      <td>Not Available</td>\n",
       "    </tr>\n",
       "    <tr>\n",
       "      <th>2</th>\n",
       "      <td>1N4AZ0CP3F</td>\n",
       "      <td>Kings</td>\n",
       "      <td>Lemoore</td>\n",
       "      <td>CA</td>\n",
       "      <td>93245</td>\n",
       "      <td>2015</td>\n",
       "      <td>NISSAN</td>\n",
       "      <td>LEAF</td>\n",
       "      <td>Battery Electric Vehicle (BEV)</td>\n",
       "      <td>Clean Alternative Fuel Vehicle Eligible</td>\n",
       "      <td>84</td>\n",
       "      <td>Unknown</td>\n",
       "      <td>182237457</td>\n",
       "      <td>POINT (-119.78637 36.30101)</td>\n",
       "      <td>Utility Not Avalilable</td>\n",
       "      <td>6031980000.0</td>\n",
       "      <td>Not Available</td>\n",
       "    </tr>\n",
       "    <tr>\n",
       "      <th>3</th>\n",
       "      <td>5YJ3E1EA8J</td>\n",
       "      <td>San Diego</td>\n",
       "      <td>Oceanside</td>\n",
       "      <td>CA</td>\n",
       "      <td>92051</td>\n",
       "      <td>2018</td>\n",
       "      <td>TESLA</td>\n",
       "      <td>MODEL 3</td>\n",
       "      <td>Battery Electric Vehicle (BEV)</td>\n",
       "      <td>Clean Alternative Fuel Vehicle Eligible</td>\n",
       "      <td>215</td>\n",
       "      <td>Unknown</td>\n",
       "      <td>153998050</td>\n",
       "      <td>Unknown</td>\n",
       "      <td>Utility Not Avalilable</td>\n",
       "      <td>6073018509.0</td>\n",
       "      <td>Not Available</td>\n",
       "    </tr>\n",
       "    <tr>\n",
       "      <th>4</th>\n",
       "      <td>5YJ3E1EB1K</td>\n",
       "      <td>Alameda</td>\n",
       "      <td>Berkeley</td>\n",
       "      <td>CA</td>\n",
       "      <td>94710</td>\n",
       "      <td>2019</td>\n",
       "      <td>TESLA</td>\n",
       "      <td>MODEL 3</td>\n",
       "      <td>Battery Electric Vehicle (BEV)</td>\n",
       "      <td>Clean Alternative Fuel Vehicle Eligible</td>\n",
       "      <td>220</td>\n",
       "      <td>Unknown</td>\n",
       "      <td>320914072</td>\n",
       "      <td>POINT (-122.300531 37.869271)</td>\n",
       "      <td>Utility Not Avalilable</td>\n",
       "      <td>6001423200.0</td>\n",
       "      <td>Not Available</td>\n",
       "    </tr>\n",
       "  </tbody>\n",
       "</table>\n",
       "</div>"
      ],
      "text/plain": [
       "          VIN     County       City State  PostalCode  ModelYear    Make  \\\n",
       "0  3MW5P9J05N   Arapahoe  Englewood    CO       80111       2022     BMW   \n",
       "1  5YJXCBE27J     Island  Greenbank    WA       98253       2018   TESLA   \n",
       "2  1N4AZ0CP3F      Kings    Lemoore    CA       93245       2015  NISSAN   \n",
       "3  5YJ3E1EA8J  San Diego  Oceanside    CA       92051       2018   TESLA   \n",
       "4  5YJ3E1EB1K    Alameda   Berkeley    CA       94710       2019   TESLA   \n",
       "\n",
       "     Model                   Electric_Vehicle_Type  \\\n",
       "0     330E  Plug-in Hybrid Electric Vehicle (PHEV)   \n",
       "1  MODEL X          Battery Electric Vehicle (BEV)   \n",
       "2     LEAF          Battery Electric Vehicle (BEV)   \n",
       "3  MODEL 3          Battery Electric Vehicle (BEV)   \n",
       "4  MODEL 3          Battery Electric Vehicle (BEV)   \n",
       "\n",
       "                          CAFV_Eligibility  Electric_Range  \\\n",
       "0    Not eligible due to low battery range              22   \n",
       "1  Clean Alternative Fuel Vehicle Eligible             238   \n",
       "2  Clean Alternative Fuel Vehicle Eligible              84   \n",
       "3  Clean Alternative Fuel Vehicle Eligible             215   \n",
       "4  Clean Alternative Fuel Vehicle Eligible             220   \n",
       "\n",
       "  Legislative_District  DOL_Vehicle_ID               Vehicle_Location  \\\n",
       "0              Unknown       200589147    POINT (-104.89239 39.61914)   \n",
       "1                 10.0       326880081   POINT (-122.575569 48.08489)   \n",
       "2              Unknown       182237457    POINT (-119.78637 36.30101)   \n",
       "3              Unknown       153998050                        Unknown   \n",
       "4              Unknown       320914072  POINT (-122.300531 37.869271)   \n",
       "\n",
       "         Electric_Utility 2020_Census_Tract Electric_Utility_Category  \n",
       "0  Utility Not Avalilable      8005006861.0             Not Available  \n",
       "1  Utility Not Avalilable     53029971302.0             Not Available  \n",
       "2  Utility Not Avalilable      6031980000.0             Not Available  \n",
       "3  Utility Not Avalilable      6073018509.0             Not Available  \n",
       "4  Utility Not Avalilable      6001423200.0             Not Available  "
      ]
     },
     "execution_count": 45,
     "metadata": {},
     "output_type": "execute_result"
    }
   ],
   "source": [
    "df.head()"
   ]
  },
  {
   "cell_type": "code",
   "execution_count": 46,
   "metadata": {},
   "outputs": [
    {
     "data": {
      "text/plain": [
       "array(['Unknown', 10.0, 12.0, 32.0, 1.0, 2.0, 36.0, 34.0, 40.0, 21.0,\n",
       "       44.0, 26.0, 39.0, 16.0, 23.0, 14.0, 38.0, 48.0, 13.0, 15.0, 9.0,\n",
       "       46.0, 3.0, 37.0, 41.0, 11.0, 17.0, 19.0, 45.0, 18.0, 43.0, 5.0,\n",
       "       24.0, 31.0, 33.0, 22.0, 49.0, 7.0, 35.0, 29.0, 20.0, 28.0, 25.0,\n",
       "       27.0, 4.0, 8.0, 47.0, 30.0, 6.0, 42.0], dtype=object)"
      ]
     },
     "execution_count": 46,
     "metadata": {},
     "output_type": "execute_result"
    }
   ],
   "source": [
    "#Now dealing with column Legislative District\n",
    "#The specific section of Washington State that the vehicle's owner resides in, \n",
    "#as represented in the state legislature. We are going to drop his column as it is not important for our analysis\n",
    "df['Legislative_District'].unique()"
   ]
  },
  {
   "cell_type": "code",
   "execution_count": 47,
   "metadata": {},
   "outputs": [
    {
     "name": "stdout",
     "output_type": "stream",
     "text": [
      "<class 'pandas.core.frame.DataFrame'>\n",
      "RangeIndex: 109481 entries, 0 to 109480\n",
      "Data columns (total 16 columns):\n",
      " #   Column                     Non-Null Count   Dtype \n",
      "---  ------                     --------------   ----- \n",
      " 0   VIN                        109481 non-null  object\n",
      " 1   County                     109481 non-null  object\n",
      " 2   City                       109481 non-null  object\n",
      " 3   State                      109481 non-null  object\n",
      " 4   PostalCode                 109481 non-null  int64 \n",
      " 5   ModelYear                  109481 non-null  int64 \n",
      " 6   Make                       109481 non-null  object\n",
      " 7   Model                      109481 non-null  object\n",
      " 8   Electric_Vehicle_Type      109481 non-null  object\n",
      " 9   CAFV_Eligibility           109481 non-null  object\n",
      " 10  Electric_Range             109481 non-null  int64 \n",
      " 11  DOL_Vehicle_ID             109481 non-null  int64 \n",
      " 12  Vehicle_Location           109481 non-null  object\n",
      " 13  Electric_Utility           109481 non-null  object\n",
      " 14  2020_Census_Tract          109481 non-null  object\n",
      " 15  Electric_Utility_Category  109481 non-null  object\n",
      "dtypes: int64(4), object(12)\n",
      "memory usage: 13.4+ MB\n"
     ]
    }
   ],
   "source": [
    "df.drop('Legislative_District', axis=1, inplace=True)\n",
    "df.info()"
   ]
  },
  {
   "cell_type": "markdown",
   "metadata": {},
   "source": [
    "### Some Important visualization"
   ]
  },
  {
   "cell_type": "code",
   "execution_count": 48,
   "metadata": {},
   "outputs": [
    {
     "data": {
      "image/png": "[encoded data removed]",
      "text/plain": [
       "<Figure size 1500x600 with 1 Axes>"
      ]
     },
     "metadata": {},
     "output_type": "display_data"
    },
    {
     "data": {
      "text/html": [
       "<style type=\"text/css\">\n",
       "#T_f7ee7_row0_col0 {\n",
       "  background-color: #08306b;\n",
       "  color: #f1f1f1;\n",
       "}\n",
       "#T_f7ee7_row1_col0 {\n",
       "  background-color: #d2e3f3;\n",
       "  color: #000000;\n",
       "}\n",
       "#T_f7ee7_row2_col0 {\n",
       "  background-color: #dfebf7;\n",
       "  color: #000000;\n",
       "}\n",
       "#T_f7ee7_row3_col0 {\n",
       "  background-color: #e5eff9;\n",
       "  color: #000000;\n",
       "}\n",
       "#T_f7ee7_row4_col0, #T_f7ee7_row5_col0 {\n",
       "  background-color: #eef5fc;\n",
       "  color: #000000;\n",
       "}\n",
       "#T_f7ee7_row6_col0, #T_f7ee7_row7_col0 {\n",
       "  background-color: #f2f8fd;\n",
       "  color: #000000;\n",
       "}\n",
       "#T_f7ee7_row8_col0, #T_f7ee7_row9_col0 {\n",
       "  background-color: #f7fbff;\n",
       "  color: #000000;\n",
       "}\n",
       "</style>\n",
       "<table id=\"T_f7ee7\">\n",
       "  <thead>\n",
       "    <tr>\n",
       "      <th class=\"blank level0\" >&nbsp;</th>\n",
       "      <th id=\"T_f7ee7_level0_col0\" class=\"col_heading level0 col0\" >count</th>\n",
       "    </tr>\n",
       "    <tr>\n",
       "      <th class=\"index_name level0\" >County</th>\n",
       "      <th class=\"blank col0\" >&nbsp;</th>\n",
       "    </tr>\n",
       "  </thead>\n",
       "  <tbody>\n",
       "    <tr>\n",
       "      <th id=\"T_f7ee7_level0_row0\" class=\"row_heading level0 row0\" >King</th>\n",
       "      <td id=\"T_f7ee7_row0_col0\" class=\"data row0 col0\" >57398</td>\n",
       "    </tr>\n",
       "    <tr>\n",
       "      <th id=\"T_f7ee7_level0_row1\" class=\"row_heading level0 row1\" >Snohomish</th>\n",
       "      <td id=\"T_f7ee7_row1_col0\" class=\"data row1 col0\" >12022</td>\n",
       "    </tr>\n",
       "    <tr>\n",
       "      <th id=\"T_f7ee7_level0_row2\" class=\"row_heading level0 row2\" >Pierce</th>\n",
       "      <td id=\"T_f7ee7_row2_col0\" class=\"data row2 col0\" >8216</td>\n",
       "    </tr>\n",
       "    <tr>\n",
       "      <th id=\"T_f7ee7_level0_row3\" class=\"row_heading level0 row3\" >Clark</th>\n",
       "      <td id=\"T_f7ee7_row3_col0\" class=\"data row3 col0\" >6460</td>\n",
       "    </tr>\n",
       "    <tr>\n",
       "      <th id=\"T_f7ee7_level0_row4\" class=\"row_heading level0 row4\" >Thurston</th>\n",
       "      <td id=\"T_f7ee7_row4_col0\" class=\"data row4 col0\" >4035</td>\n",
       "    </tr>\n",
       "    <tr>\n",
       "      <th id=\"T_f7ee7_level0_row5\" class=\"row_heading level0 row5\" >Kitsap</th>\n",
       "      <td id=\"T_f7ee7_row5_col0\" class=\"data row5 col0\" >3774</td>\n",
       "    </tr>\n",
       "    <tr>\n",
       "      <th id=\"T_f7ee7_level0_row6\" class=\"row_heading level0 row6\" >Whatcom</th>\n",
       "      <td id=\"T_f7ee7_row6_col0\" class=\"data row6 col0\" >2767</td>\n",
       "    </tr>\n",
       "    <tr>\n",
       "      <th id=\"T_f7ee7_level0_row7\" class=\"row_heading level0 row7\" >Spokane</th>\n",
       "      <td id=\"T_f7ee7_row7_col0\" class=\"data row7 col0\" >2719</td>\n",
       "    </tr>\n",
       "    <tr>\n",
       "      <th id=\"T_f7ee7_level0_row8\" class=\"row_heading level0 row8\" >Benton</th>\n",
       "      <td id=\"T_f7ee7_row8_col0\" class=\"data row8 col0\" >1329</td>\n",
       "    </tr>\n",
       "    <tr>\n",
       "      <th id=\"T_f7ee7_level0_row9\" class=\"row_heading level0 row9\" >Island</th>\n",
       "      <td id=\"T_f7ee7_row9_col0\" class=\"data row9 col0\" >1281</td>\n",
       "    </tr>\n",
       "  </tbody>\n",
       "</table>\n"
      ],
      "text/plain": [
       "<pandas.io.formats.style.Styler at 0x2101e408dc0>"
      ]
     },
     "execution_count": 48,
     "metadata": {},
     "output_type": "execute_result"
    }
   ],
   "source": [
    "# First of all visualize Top 10 County of Cars per County\n",
    "car_counts = df['County'].value_counts().nlargest(10)\n",
    "\n",
    "# plot the counts\n",
    "car_counts.plot(kind='bar')\n",
    "plt.xlabel('County')\n",
    "plt.ylabel('Number of Cars')\n",
    "plt.title('Top 10 County of Cars per County')\n",
    "plt.show()\n",
    "\n",
    "car_counts_df = car_counts.to_frame()\n",
    "car_counts_df.style.background_gradient(cmap='Blues')"
   ]
  },
  {
   "cell_type": "code",
   "execution_count": 49,
   "metadata": {},
   "outputs": [
    {
     "data": {
      "image/png": "[encoded data removed]",
      "text/plain": [
       "<Figure size 1500x600 with 1 Axes>"
      ]
     },
     "metadata": {},
     "output_type": "display_data"
    },
    {
     "data": {
      "text/html": [
       "<style type=\"text/css\">\n",
       "#T_c90a4_row0_col0 {\n",
       "  background-color: #08306b;\n",
       "  color: #f1f1f1;\n",
       "}\n",
       "#T_c90a4_row1_col0 {\n",
       "  background-color: #d0e2f2;\n",
       "  color: #000000;\n",
       "}\n",
       "#T_c90a4_row2_col0 {\n",
       "  background-color: #e3eef9;\n",
       "  color: #000000;\n",
       "}\n",
       "#T_c90a4_row3_col0 {\n",
       "  background-color: #e6f0f9;\n",
       "  color: #000000;\n",
       "}\n",
       "#T_c90a4_row4_col0 {\n",
       "  background-color: #eaf2fb;\n",
       "  color: #000000;\n",
       "}\n",
       "#T_c90a4_row5_col0 {\n",
       "  background-color: #edf4fc;\n",
       "  color: #000000;\n",
       "}\n",
       "#T_c90a4_row6_col0 {\n",
       "  background-color: #eef5fc;\n",
       "  color: #000000;\n",
       "}\n",
       "#T_c90a4_row7_col0 {\n",
       "  background-color: #f2f8fd;\n",
       "  color: #000000;\n",
       "}\n",
       "#T_c90a4_row8_col0 {\n",
       "  background-color: #f3f8fe;\n",
       "  color: #000000;\n",
       "}\n",
       "#T_c90a4_row9_col0 {\n",
       "  background-color: #f7fbff;\n",
       "  color: #000000;\n",
       "}\n",
       "</style>\n",
       "<table id=\"T_c90a4\">\n",
       "  <thead>\n",
       "    <tr>\n",
       "      <th class=\"blank level0\" >&nbsp;</th>\n",
       "      <th id=\"T_c90a4_level0_col0\" class=\"col_heading level0 col0\" >count</th>\n",
       "    </tr>\n",
       "    <tr>\n",
       "      <th class=\"index_name level0\" >City</th>\n",
       "      <th class=\"blank col0\" >&nbsp;</th>\n",
       "    </tr>\n",
       "  </thead>\n",
       "  <tbody>\n",
       "    <tr>\n",
       "      <th id=\"T_c90a4_level0_row0\" class=\"row_heading level0 row0\" >Seattle</th>\n",
       "      <td id=\"T_c90a4_row0_col0\" class=\"data row0 col0\" >19860</td>\n",
       "    </tr>\n",
       "    <tr>\n",
       "      <th id=\"T_c90a4_level0_row1\" class=\"row_heading level0 row1\" >Bellevue</th>\n",
       "      <td id=\"T_c90a4_row1_col0\" class=\"data row1 col0\" >5751</td>\n",
       "    </tr>\n",
       "    <tr>\n",
       "      <th id=\"T_c90a4_level0_row2\" class=\"row_heading level0 row2\" >Redmond</th>\n",
       "      <td id=\"T_c90a4_row2_col0\" class=\"data row2 col0\" >4044</td>\n",
       "    </tr>\n",
       "    <tr>\n",
       "      <th id=\"T_c90a4_level0_row3\" class=\"row_heading level0 row3\" >Vancouver</th>\n",
       "      <td id=\"T_c90a4_row3_col0\" class=\"data row3 col0\" >3875</td>\n",
       "    </tr>\n",
       "    <tr>\n",
       "      <th id=\"T_c90a4_level0_row4\" class=\"row_heading level0 row4\" >Kirkland</th>\n",
       "      <td id=\"T_c90a4_row4_col0\" class=\"data row4 col0\" >3486</td>\n",
       "    </tr>\n",
       "    <tr>\n",
       "      <th id=\"T_c90a4_level0_row5\" class=\"row_heading level0 row5\" >Bothell</th>\n",
       "      <td id=\"T_c90a4_row5_col0\" class=\"data row5 col0\" >3210</td>\n",
       "    </tr>\n",
       "    <tr>\n",
       "      <th id=\"T_c90a4_level0_row6\" class=\"row_heading level0 row6\" >Sammamish</th>\n",
       "      <td id=\"T_c90a4_row6_col0\" class=\"data row6 col0\" >3172</td>\n",
       "    </tr>\n",
       "    <tr>\n",
       "      <th id=\"T_c90a4_level0_row7\" class=\"row_heading level0 row7\" >Renton</th>\n",
       "      <td id=\"T_c90a4_row7_col0\" class=\"data row7 col0\" >2725</td>\n",
       "    </tr>\n",
       "    <tr>\n",
       "      <th id=\"T_c90a4_level0_row8\" class=\"row_heading level0 row8\" >Olympia</th>\n",
       "      <td id=\"T_c90a4_row8_col0\" class=\"data row8 col0\" >2677</td>\n",
       "    </tr>\n",
       "    <tr>\n",
       "      <th id=\"T_c90a4_level0_row9\" class=\"row_heading level0 row9\" >Tacoma</th>\n",
       "      <td id=\"T_c90a4_row9_col0\" class=\"data row9 col0\" >2303</td>\n",
       "    </tr>\n",
       "  </tbody>\n",
       "</table>\n"
      ],
      "text/plain": [
       "<pandas.io.formats.style.Styler at 0x2101e2ef700>"
      ]
     },
     "execution_count": 49,
     "metadata": {},
     "output_type": "execute_result"
    }
   ],
   "source": [
    "# Now visualize the top 10 counts of Cars per city\n",
    "\n",
    "car_counts_Cty = df['City'].value_counts().nlargest(10)\n",
    "# plot the counts\n",
    "car_counts_Cty.plot(kind='bar')\n",
    "plt.xlabel('City')\n",
    "plt.ylabel('Number of Cars')\n",
    "plt.title('Top 10 Count of Cars per City')\n",
    "plt.show()\n",
    "\n",
    "car_counts_cty_df = car_counts_Cty.to_frame()\n",
    "car_counts_cty_df.style.background_gradient(cmap='Blues')"
   ]
  },
  {
   "cell_type": "code",
   "execution_count": 50,
   "metadata": {},
   "outputs": [
    {
     "data": {
      "image/png": "[encoded data removed]",
      "text/plain": [
       "<Figure size 1500x600 with 1 Axes>"
      ]
     },
     "metadata": {},
     "output_type": "display_data"
    },
    {
     "data": {
      "text/html": [
       "<style type=\"text/css\">\n",
       "#T_4574b_row0_col0 {\n",
       "  background-color: #08306b;\n",
       "  color: #f1f1f1;\n",
       "}\n",
       "#T_4574b_row1_col0, #T_4574b_row2_col0, #T_4574b_row3_col0, #T_4574b_row4_col0, #T_4574b_row5_col0, #T_4574b_row6_col0, #T_4574b_row7_col0, #T_4574b_row8_col0, #T_4574b_row9_col0 {\n",
       "  background-color: #f7fbff;\n",
       "  color: #000000;\n",
       "}\n",
       "</style>\n",
       "<table id=\"T_4574b\">\n",
       "  <thead>\n",
       "    <tr>\n",
       "      <th class=\"blank level0\" >&nbsp;</th>\n",
       "      <th id=\"T_4574b_level0_col0\" class=\"col_heading level0 col0\" >count</th>\n",
       "    </tr>\n",
       "    <tr>\n",
       "      <th class=\"index_name level0\" >State</th>\n",
       "      <th class=\"blank col0\" >&nbsp;</th>\n",
       "    </tr>\n",
       "  </thead>\n",
       "  <tbody>\n",
       "    <tr>\n",
       "      <th id=\"T_4574b_level0_row0\" class=\"row_heading level0 row0\" >WA</th>\n",
       "      <td id=\"T_4574b_row0_col0\" class=\"data row0 col0\" >109205</td>\n",
       "    </tr>\n",
       "    <tr>\n",
       "      <th id=\"T_4574b_level0_row1\" class=\"row_heading level0 row1\" >CA</th>\n",
       "      <td id=\"T_4574b_row1_col0\" class=\"data row1 col0\" >72</td>\n",
       "    </tr>\n",
       "    <tr>\n",
       "      <th id=\"T_4574b_level0_row2\" class=\"row_heading level0 row2\" >VA</th>\n",
       "      <td id=\"T_4574b_row2_col0\" class=\"data row2 col0\" >36</td>\n",
       "    </tr>\n",
       "    <tr>\n",
       "      <th id=\"T_4574b_level0_row3\" class=\"row_heading level0 row3\" >MD</th>\n",
       "      <td id=\"T_4574b_row3_col0\" class=\"data row3 col0\" >26</td>\n",
       "    </tr>\n",
       "    <tr>\n",
       "      <th id=\"T_4574b_level0_row4\" class=\"row_heading level0 row4\" >TX</th>\n",
       "      <td id=\"T_4574b_row4_col0\" class=\"data row4 col0\" >15</td>\n",
       "    </tr>\n",
       "    <tr>\n",
       "      <th id=\"T_4574b_level0_row5\" class=\"row_heading level0 row5\" >CO</th>\n",
       "      <td id=\"T_4574b_row5_col0\" class=\"data row5 col0\" >9</td>\n",
       "    </tr>\n",
       "    <tr>\n",
       "      <th id=\"T_4574b_level0_row6\" class=\"row_heading level0 row6\" >AZ</th>\n",
       "      <td id=\"T_4574b_row6_col0\" class=\"data row6 col0\" >7</td>\n",
       "    </tr>\n",
       "    <tr>\n",
       "      <th id=\"T_4574b_level0_row7\" class=\"row_heading level0 row7\" >FL</th>\n",
       "      <td id=\"T_4574b_row7_col0\" class=\"data row7 col0\" >7</td>\n",
       "    </tr>\n",
       "    <tr>\n",
       "      <th id=\"T_4574b_level0_row8\" class=\"row_heading level0 row8\" >NV</th>\n",
       "      <td id=\"T_4574b_row8_col0\" class=\"data row8 col0\" >7</td>\n",
       "    </tr>\n",
       "    <tr>\n",
       "      <th id=\"T_4574b_level0_row9\" class=\"row_heading level0 row9\" >IL</th>\n",
       "      <td id=\"T_4574b_row9_col0\" class=\"data row9 col0\" >6</td>\n",
       "    </tr>\n",
       "  </tbody>\n",
       "</table>\n"
      ],
      "text/plain": [
       "<pandas.io.formats.style.Styler at 0x2101e30e770>"
      ]
     },
     "execution_count": 50,
     "metadata": {},
     "output_type": "execute_result"
    }
   ],
   "source": [
    "#Top 10 Count of Cars per State'\n",
    "\n",
    "car_counts_St = df['State'].value_counts().nlargest(10)\n",
    "# plot the counts with a logarithmic y-axis\n",
    "plt.bar(car_counts_St.index, car_counts_St.values)\n",
    "plt.yscale('log')\n",
    "plt.xlabel('State')\n",
    "plt.ylabel('Number of Cars (log scale)')\n",
    "plt.title('Top 10 Count of Cars per State')\n",
    "plt.show()\n",
    "\n",
    "car_counts_St_df = car_counts_St.to_frame()\n",
    "car_counts_St_df.style.background_gradient(cmap='Blues')"
   ]
  },
  {
   "cell_type": "code",
   "execution_count": 51,
   "metadata": {},
   "outputs": [
    {
     "data": {
      "image/png": "[encoded data removed]",
      "text/plain": [
       "<Figure size 1500x600 with 1 Axes>"
      ]
     },
     "metadata": {},
     "output_type": "display_data"
    },
    {
     "data": {
      "text/html": [
       "<div>\n",
       "<style scoped>\n",
       "    .dataframe tbody tr th:only-of-type {\n",
       "        vertical-align: middle;\n",
       "    }\n",
       "\n",
       "    .dataframe tbody tr th {\n",
       "        vertical-align: top;\n",
       "    }\n",
       "\n",
       "    .dataframe thead th {\n",
       "        text-align: right;\n",
       "    }\n",
       "</style>\n",
       "<table border=\"1\" class=\"dataframe\">\n",
       "  <thead>\n",
       "    <tr style=\"text-align: right;\">\n",
       "      <th>Make</th>\n",
       "      <th>AUDI</th>\n",
       "      <th>BMW</th>\n",
       "      <th>CHEVROLET</th>\n",
       "      <th>FORD</th>\n",
       "      <th>KIA</th>\n",
       "      <th>NISSAN</th>\n",
       "      <th>TESLA</th>\n",
       "      <th>TOYOTA</th>\n",
       "      <th>VOLKSWAGEN</th>\n",
       "      <th>VOLVO</th>\n",
       "    </tr>\n",
       "    <tr>\n",
       "      <th>County</th>\n",
       "      <th></th>\n",
       "      <th></th>\n",
       "      <th></th>\n",
       "      <th></th>\n",
       "      <th></th>\n",
       "      <th></th>\n",
       "      <th></th>\n",
       "      <th></th>\n",
       "      <th></th>\n",
       "      <th></th>\n",
       "    </tr>\n",
       "  </thead>\n",
       "  <tbody>\n",
       "    <tr>\n",
       "      <th>Benton</th>\n",
       "      <td>26</td>\n",
       "      <td>51</td>\n",
       "      <td>195</td>\n",
       "      <td>113</td>\n",
       "      <td>43</td>\n",
       "      <td>112</td>\n",
       "      <td>538</td>\n",
       "      <td>76</td>\n",
       "      <td>21</td>\n",
       "      <td>10</td>\n",
       "    </tr>\n",
       "    <tr>\n",
       "      <th>Clark</th>\n",
       "      <td>104</td>\n",
       "      <td>253</td>\n",
       "      <td>662</td>\n",
       "      <td>382</td>\n",
       "      <td>271</td>\n",
       "      <td>761</td>\n",
       "      <td>2591</td>\n",
       "      <td>439</td>\n",
       "      <td>121</td>\n",
       "      <td>109</td>\n",
       "    </tr>\n",
       "    <tr>\n",
       "      <th>Island</th>\n",
       "      <td>30</td>\n",
       "      <td>37</td>\n",
       "      <td>192</td>\n",
       "      <td>87</td>\n",
       "      <td>68</td>\n",
       "      <td>148</td>\n",
       "      <td>469</td>\n",
       "      <td>65</td>\n",
       "      <td>38</td>\n",
       "      <td>28</td>\n",
       "    </tr>\n",
       "    <tr>\n",
       "      <th>King</th>\n",
       "      <td>1402</td>\n",
       "      <td>2789</td>\n",
       "      <td>3848</td>\n",
       "      <td>2132</td>\n",
       "      <td>1990</td>\n",
       "      <td>6298</td>\n",
       "      <td>29407</td>\n",
       "      <td>1734</td>\n",
       "      <td>1276</td>\n",
       "      <td>1472</td>\n",
       "    </tr>\n",
       "    <tr>\n",
       "      <th>Kitsap</th>\n",
       "      <td>84</td>\n",
       "      <td>166</td>\n",
       "      <td>454</td>\n",
       "      <td>240</td>\n",
       "      <td>187</td>\n",
       "      <td>583</td>\n",
       "      <td>1222</td>\n",
       "      <td>173</td>\n",
       "      <td>97</td>\n",
       "      <td>118</td>\n",
       "    </tr>\n",
       "    <tr>\n",
       "      <th>Pierce</th>\n",
       "      <td>165</td>\n",
       "      <td>330</td>\n",
       "      <td>886</td>\n",
       "      <td>638</td>\n",
       "      <td>384</td>\n",
       "      <td>879</td>\n",
       "      <td>3403</td>\n",
       "      <td>346</td>\n",
       "      <td>155</td>\n",
       "      <td>175</td>\n",
       "    </tr>\n",
       "    <tr>\n",
       "      <th>Snohomish</th>\n",
       "      <td>161</td>\n",
       "      <td>412</td>\n",
       "      <td>998</td>\n",
       "      <td>697</td>\n",
       "      <td>480</td>\n",
       "      <td>1546</td>\n",
       "      <td>5835</td>\n",
       "      <td>381</td>\n",
       "      <td>262</td>\n",
       "      <td>227</td>\n",
       "    </tr>\n",
       "    <tr>\n",
       "      <th>Spokane</th>\n",
       "      <td>67</td>\n",
       "      <td>130</td>\n",
       "      <td>323</td>\n",
       "      <td>194</td>\n",
       "      <td>123</td>\n",
       "      <td>279</td>\n",
       "      <td>1064</td>\n",
       "      <td>111</td>\n",
       "      <td>57</td>\n",
       "      <td>35</td>\n",
       "    </tr>\n",
       "    <tr>\n",
       "      <th>Thurston</th>\n",
       "      <td>61</td>\n",
       "      <td>103</td>\n",
       "      <td>698</td>\n",
       "      <td>325</td>\n",
       "      <td>258</td>\n",
       "      <td>518</td>\n",
       "      <td>1207</td>\n",
       "      <td>228</td>\n",
       "      <td>87</td>\n",
       "      <td>58</td>\n",
       "    </tr>\n",
       "    <tr>\n",
       "      <th>Whatcom</th>\n",
       "      <td>67</td>\n",
       "      <td>71</td>\n",
       "      <td>328</td>\n",
       "      <td>149</td>\n",
       "      <td>166</td>\n",
       "      <td>570</td>\n",
       "      <td>862</td>\n",
       "      <td>174</td>\n",
       "      <td>80</td>\n",
       "      <td>48</td>\n",
       "    </tr>\n",
       "  </tbody>\n",
       "</table>\n",
       "</div>"
      ],
      "text/plain": [
       "Make       AUDI   BMW  CHEVROLET  FORD   KIA  NISSAN  TESLA  TOYOTA  \\\n",
       "County                                                                \n",
       "Benton       26    51        195   113    43     112    538      76   \n",
       "Clark       104   253        662   382   271     761   2591     439   \n",
       "Island       30    37        192    87    68     148    469      65   \n",
       "King       1402  2789       3848  2132  1990    6298  29407    1734   \n",
       "Kitsap       84   166        454   240   187     583   1222     173   \n",
       "Pierce      165   330        886   638   384     879   3403     346   \n",
       "Snohomish   161   412        998   697   480    1546   5835     381   \n",
       "Spokane      67   130        323   194   123     279   1064     111   \n",
       "Thurston     61   103        698   325   258     518   1207     228   \n",
       "Whatcom      67    71        328   149   166     570    862     174   \n",
       "\n",
       "Make       VOLKSWAGEN  VOLVO  \n",
       "County                        \n",
       "Benton             21     10  \n",
       "Clark             121    109  \n",
       "Island             38     28  \n",
       "King             1276   1472  \n",
       "Kitsap             97    118  \n",
       "Pierce            155    175  \n",
       "Snohomish         262    227  \n",
       "Spokane            57     35  \n",
       "Thurston           87     58  \n",
       "Whatcom            80     48  "
      ]
     },
     "execution_count": 51,
     "metadata": {},
     "output_type": "execute_result"
    }
   ],
   "source": [
    "# Top 10 Make distribution count per top 10 County\n",
    "# Group data by 'County' and 'Make', counting occurrences of each combination\n",
    "cnt_MkCounty = df.groupby(['County', 'Make']).size().reset_index(name='Count')\n",
    "\n",
    "# Summarize counts for each combination of 'County' and 'Make'\n",
    "grouped_data = cnt_MkCounty.groupby(['County', 'Make'])['Count'].sum().reset_index()\n",
    "\n",
    "# Aggregate the total counts for each county\n",
    "county_counts = grouped_data.groupby('County')['Count'].sum().reset_index()\n",
    "\n",
    "# Aggregate the total counts for each make\n",
    "make_counts = grouped_data.groupby('Make')['Count'].sum().reset_index()\n",
    "\n",
    "# Identify the top 10 counties by count in descending order\n",
    "top_counties = county_counts.sort_values(by='Count', ascending=False).head(10)\n",
    "\n",
    "# Identify the top 10 makes by count in descending order\n",
    "top_makes = make_counts.sort_values(by='Count', ascending=False).head(10)\n",
    "\n",
    "# Filter the grouped data to include only rows where the county and make are in the top 10\n",
    "filtered_data = grouped_data[\n",
    "    grouped_data['County'].isin(top_counties['County']) & \n",
    "    grouped_data['Make'].isin(top_makes['Make'])\n",
    "]\n",
    "\n",
    "# Reshape the filtered data into a matrix: rows are counties, columns are makes, and values are counts\n",
    "pivoted_data = filtered_data.pivot(index='County', columns='Make', values='Count').fillna(0)\n",
    "\n",
    "# Plot a stacked bar chart to visualize the data\n",
    "pivoted_data.plot(kind='bar', stacked=True)\n",
    "\n",
    "# Add a title and axis labels to the plot\n",
    "plt.title('Top 10 Make Distribution Count per Top 10 County')\n",
    "plt.xlabel('County')\n",
    "plt.ylabel('Number of Cars')\n",
    "\n",
    "# Display the plot\n",
    "plt.show()\n",
    "\n",
    "# Display the top 10 rows of the pivoted data\n",
    "pivoted_data.head(10)\n"
   ]
  },
  {
   "cell_type": "code",
   "execution_count": 52,
   "metadata": {},
   "outputs": [
    {
     "data": {
      "image/png": "[encoded data removed]",
      "text/plain": [
       "<Figure size 1500x600 with 1 Axes>"
      ]
     },
     "metadata": {},
     "output_type": "display_data"
    },
    {
     "data": {
      "text/html": [
       "<div>\n",
       "<style scoped>\n",
       "    .dataframe tbody tr th:only-of-type {\n",
       "        vertical-align: middle;\n",
       "    }\n",
       "\n",
       "    .dataframe tbody tr th {\n",
       "        vertical-align: top;\n",
       "    }\n",
       "\n",
       "    .dataframe thead th {\n",
       "        text-align: right;\n",
       "    }\n",
       "</style>\n",
       "<table border=\"1\" class=\"dataframe\">\n",
       "  <thead>\n",
       "    <tr style=\"text-align: right;\">\n",
       "      <th></th>\n",
       "      <th>State</th>\n",
       "      <th>Electric_Vehicle_Type</th>\n",
       "      <th>Count</th>\n",
       "    </tr>\n",
       "  </thead>\n",
       "  <tbody>\n",
       "    <tr>\n",
       "      <th>5</th>\n",
       "      <td>CA</td>\n",
       "      <td>Battery Electric Vehicle (BEV)</td>\n",
       "      <td>47</td>\n",
       "    </tr>\n",
       "    <tr>\n",
       "      <th>6</th>\n",
       "      <td>CA</td>\n",
       "      <td>Plug-in Hybrid Electric Vehicle (PHEV)</td>\n",
       "      <td>25</td>\n",
       "    </tr>\n",
       "    <tr>\n",
       "      <th>7</th>\n",
       "      <td>CO</td>\n",
       "      <td>Battery Electric Vehicle (BEV)</td>\n",
       "      <td>7</td>\n",
       "    </tr>\n",
       "    <tr>\n",
       "      <th>3</th>\n",
       "      <td>AZ</td>\n",
       "      <td>Battery Electric Vehicle (BEV)</td>\n",
       "      <td>5</td>\n",
       "    </tr>\n",
       "    <tr>\n",
       "      <th>2</th>\n",
       "      <td>AR</td>\n",
       "      <td>Battery Electric Vehicle (BEV)</td>\n",
       "      <td>3</td>\n",
       "    </tr>\n",
       "    <tr>\n",
       "      <th>4</th>\n",
       "      <td>AZ</td>\n",
       "      <td>Plug-in Hybrid Electric Vehicle (PHEV)</td>\n",
       "      <td>2</td>\n",
       "    </tr>\n",
       "    <tr>\n",
       "      <th>8</th>\n",
       "      <td>CO</td>\n",
       "      <td>Plug-in Hybrid Electric Vehicle (PHEV)</td>\n",
       "      <td>2</td>\n",
       "    </tr>\n",
       "    <tr>\n",
       "      <th>0</th>\n",
       "      <td>AK</td>\n",
       "      <td>Plug-in Hybrid Electric Vehicle (PHEV)</td>\n",
       "      <td>1</td>\n",
       "    </tr>\n",
       "    <tr>\n",
       "      <th>1</th>\n",
       "      <td>AL</td>\n",
       "      <td>Plug-in Hybrid Electric Vehicle (PHEV)</td>\n",
       "      <td>1</td>\n",
       "    </tr>\n",
       "    <tr>\n",
       "      <th>9</th>\n",
       "      <td>CT</td>\n",
       "      <td>Battery Electric Vehicle (BEV)</td>\n",
       "      <td>1</td>\n",
       "    </tr>\n",
       "  </tbody>\n",
       "</table>\n",
       "</div>"
      ],
      "text/plain": [
       "  State                   Electric_Vehicle_Type  Count\n",
       "5    CA          Battery Electric Vehicle (BEV)     47\n",
       "6    CA  Plug-in Hybrid Electric Vehicle (PHEV)     25\n",
       "7    CO          Battery Electric Vehicle (BEV)      7\n",
       "3    AZ          Battery Electric Vehicle (BEV)      5\n",
       "2    AR          Battery Electric Vehicle (BEV)      3\n",
       "4    AZ  Plug-in Hybrid Electric Vehicle (PHEV)      2\n",
       "8    CO  Plug-in Hybrid Electric Vehicle (PHEV)      2\n",
       "0    AK  Plug-in Hybrid Electric Vehicle (PHEV)      1\n",
       "1    AL  Plug-in Hybrid Electric Vehicle (PHEV)      1\n",
       "9    CT          Battery Electric Vehicle (BEV)      1"
      ]
     },
     "execution_count": 52,
     "metadata": {},
     "output_type": "execute_result"
    }
   ],
   "source": [
    "# Now visualize  the EVT Distribution count per state\n",
    "# EVT Distribution count per state\n",
    "evt_Dis_cnt = df.groupby(['State', 'Electric_Vehicle_Type']).size().reset_index(name='Count')\n",
    "evt_Dis_cnt.groupby(['State', 'Electric_Vehicle_Type'])['Count'].count().unstack().plot(kind='bar', stacked=True)\n",
    "\n",
    "# Move legend outside of plot\n",
    "plt.legend(bbox_to_anchor=(1.01, 1), loc='upper left')\n",
    "plt.show()\n",
    "\n",
    "evt_Dis_cnt.head(10).sort_values(by='Count', ascending=False)"
   ]
  },
  {
   "cell_type": "code",
   "execution_count": 53,
   "metadata": {},
   "outputs": [
    {
     "data": {
      "image/png": "[encoded data removed]",
      "text/plain": [
       "<Figure size 1500x600 with 1 Axes>"
      ]
     },
     "metadata": {},
     "output_type": "display_data"
    },
    {
     "data": {
      "text/html": [
       "<div>\n",
       "<style scoped>\n",
       "    .dataframe tbody tr th:only-of-type {\n",
       "        vertical-align: middle;\n",
       "    }\n",
       "\n",
       "    .dataframe tbody tr th {\n",
       "        vertical-align: top;\n",
       "    }\n",
       "\n",
       "    .dataframe thead th {\n",
       "        text-align: right;\n",
       "    }\n",
       "</style>\n",
       "<table border=\"1\" class=\"dataframe\">\n",
       "  <thead>\n",
       "    <tr style=\"text-align: right;\">\n",
       "      <th>Electric_Utility_Category</th>\n",
       "      <th>Multi type Utilities</th>\n",
       "      <th>Not Available</th>\n",
       "      <th>Only One Option</th>\n",
       "      <th>Single Type Utilities</th>\n",
       "    </tr>\n",
       "    <tr>\n",
       "      <th>City</th>\n",
       "      <th></th>\n",
       "      <th></th>\n",
       "      <th></th>\n",
       "      <th></th>\n",
       "    </tr>\n",
       "  </thead>\n",
       "  <tbody>\n",
       "    <tr>\n",
       "      <th>Auburn</th>\n",
       "      <td>1131.0</td>\n",
       "      <td>0.0</td>\n",
       "      <td>0.0</td>\n",
       "      <td>0.0</td>\n",
       "    </tr>\n",
       "    <tr>\n",
       "      <th>Bainbridge Island</th>\n",
       "      <td>0.0</td>\n",
       "      <td>12.0</td>\n",
       "      <td>1191.0</td>\n",
       "      <td>0.0</td>\n",
       "    </tr>\n",
       "    <tr>\n",
       "      <th>Bellevue</th>\n",
       "      <td>5750.0</td>\n",
       "      <td>1.0</td>\n",
       "      <td>0.0</td>\n",
       "      <td>0.0</td>\n",
       "    </tr>\n",
       "    <tr>\n",
       "      <th>Bellingham</th>\n",
       "      <td>1898.0</td>\n",
       "      <td>0.0</td>\n",
       "      <td>7.0</td>\n",
       "      <td>0.0</td>\n",
       "    </tr>\n",
       "    <tr>\n",
       "      <th>Bothell</th>\n",
       "      <td>710.0</td>\n",
       "      <td>0.0</td>\n",
       "      <td>2500.0</td>\n",
       "      <td>0.0</td>\n",
       "    </tr>\n",
       "    <tr>\n",
       "      <th>Bremerton</th>\n",
       "      <td>0.0</td>\n",
       "      <td>0.0</td>\n",
       "      <td>797.0</td>\n",
       "      <td>0.0</td>\n",
       "    </tr>\n",
       "    <tr>\n",
       "      <th>Camas</th>\n",
       "      <td>984.0</td>\n",
       "      <td>0.0</td>\n",
       "      <td>0.0</td>\n",
       "      <td>0.0</td>\n",
       "    </tr>\n",
       "    <tr>\n",
       "      <th>Edmonds</th>\n",
       "      <td>0.0</td>\n",
       "      <td>3.0</td>\n",
       "      <td>1257.0</td>\n",
       "      <td>0.0</td>\n",
       "    </tr>\n",
       "    <tr>\n",
       "      <th>Everett</th>\n",
       "      <td>2.0</td>\n",
       "      <td>0.0</td>\n",
       "      <td>1423.0</td>\n",
       "      <td>0.0</td>\n",
       "    </tr>\n",
       "    <tr>\n",
       "      <th>Federal Way</th>\n",
       "      <td>827.0</td>\n",
       "      <td>0.0</td>\n",
       "      <td>0.0</td>\n",
       "      <td>0.0</td>\n",
       "    </tr>\n",
       "  </tbody>\n",
       "</table>\n",
       "</div>"
      ],
      "text/plain": [
       "Electric_Utility_Category  Multi type Utilities  Not Available  \\\n",
       "City                                                             \n",
       "Auburn                                   1131.0            0.0   \n",
       "Bainbridge Island                           0.0           12.0   \n",
       "Bellevue                                 5750.0            1.0   \n",
       "Bellingham                               1898.0            0.0   \n",
       "Bothell                                   710.0            0.0   \n",
       "Bremerton                                   0.0            0.0   \n",
       "Camas                                     984.0            0.0   \n",
       "Edmonds                                     0.0            3.0   \n",
       "Everett                                     2.0            0.0   \n",
       "Federal Way                               827.0            0.0   \n",
       "\n",
       "Electric_Utility_Category  Only One Option  Single Type Utilities  \n",
       "City                                                               \n",
       "Auburn                                 0.0                    0.0  \n",
       "Bainbridge Island                   1191.0                    0.0  \n",
       "Bellevue                               0.0                    0.0  \n",
       "Bellingham                             7.0                    0.0  \n",
       "Bothell                             2500.0                    0.0  \n",
       "Bremerton                            797.0                    0.0  \n",
       "Camas                                  0.0                    0.0  \n",
       "Edmonds                             1257.0                    0.0  \n",
       "Everett                             1423.0                    0.0  \n",
       "Federal Way                            0.0                    0.0  "
      ]
     },
     "execution_count": 53,
     "metadata": {},
     "output_type": "execute_result"
    }
   ],
   "source": [
    "# Now visualize the  electric utility distribution in top 10 cities with highest number of cars.\n",
    "cnt_Cty_EUD = df.groupby(['City', 'Electric_Utility_Category']).size().reset_index(name='Count')\n",
    "\n",
    "# Group the data by county and make, and sum the counts for each group\n",
    "grouped_data_Cty_EUD = cnt_Cty_EUD.groupby(['City', 'Electric_Utility_Category'])['Count'].sum().reset_index()\n",
    "\n",
    "# Group the data by county and sum the counts for each county\n",
    "Cty_EUD_counts = grouped_data_Cty_EUD.groupby('City')['Count'].sum().reset_index()\n",
    "# make_counts = grouped_data_St.groupby('Make')['Count'].sum().reset_index()\n",
    "\n",
    "# Sort the counties by count in descending order, and select the top 10\n",
    "top_Cty_EUD_counts = Cty_EUD_counts.sort_values(by='Count', ascending=False).head(30)\n",
    "# top_makes = make_counts.sort_values(by='Count', ascending=False).head(10)\n",
    "\n",
    "# Filter the data to only include the top 10 counties\n",
    "filtered_data_Cty_EUD = grouped_data_Cty_EUD[grouped_data_Cty_EUD['City'].isin(top_Cty_EUD_counts['City'])]\n",
    "\n",
    "# Pivot the data to create a matrix with counties as rows, makes as columns, and counts as values\n",
    "pivoted_data_Cty_EUD = filtered_data_Cty_EUD.pivot(index='City', columns='Electric_Utility_Category', values='Count').fillna(0)\n",
    "\n",
    "# Create a stacked bar plot of the pivoted data\n",
    "pivoted_data_Cty_EUD.plot(kind='bar', stacked=True)\n",
    "\n",
    "# Set the title and axis labels\n",
    "plt.title('Electric Utility Distribution in top 10 cities with highest number of cars')\n",
    "# plt.yscale('log')\n",
    "plt.xlabel('City')\n",
    "plt.ylabel('Number of EUC')\n",
    "\n",
    "# Show the plot\n",
    "plt.show()\n",
    "\n",
    "pivoted_data_Cty_EUD.head(10)"
   ]
  },
  {
   "cell_type": "code",
   "execution_count": 54,
   "metadata": {},
   "outputs": [
    {
     "data": {
      "application/vnd.plotly.v1+json": {
       "config": {
        "plotlyServerURL": "https://plot.ly"
       },
       "data": [
        {
         "domain": {
          "x": [
           0,
           1
          ],
          "y": [
           0,
           1
          ]
         },
         "hole": true,
         "hovertemplate": "<b>%{hovertext}</b><br><br>model=%{label}<br>km_range=%{value}<extra></extra>",
         "hovertext": [
          206.59459459459458,
          122.79518241159745,
          111.28375558867363,
          100,
          89.99198318804483,
          85.62043795620438,
          69.4016,
          63.47171453437772,
          62.24542124542125,
          56
         ],
         "labels": [
          "JAGUAR",
          "TESLA",
          "CHEVROLET",
          "TH!NK",
          "NISSAN",
          "FIAT",
          "KIA",
          "AUDI",
          "SMART",
          "AZURE DYNAMICS"
         ],
         "legendgroup": "",
         "name": "",
         "showlegend": true,
         "type": "pie",
         "values": [
          206.59459459459458,
          122.79518241159745,
          111.28375558867363,
          100,
          89.99198318804483,
          85.62043795620438,
          69.4016,
          63.47171453437772,
          62.24542124542125,
          56
         ]
        }
       ],
       "layout": {
        "legend": {
         "tracegroupgap": 0
        },
        "template": {
         "data": {
          "bar": [
           {
            "error_x": {
             "color": "#2a3f5f"
            },
            "error_y": {
             "color": "#2a3f5f"
            },
            "marker": {
             "line": {
              "color": "#E5ECF6",
              "width": 0.5
             },
             "pattern": {
              "fillmode": "overlay",
              "size": 10,
              "solidity": 0.2
             }
            },
            "type": "bar"
           }
          ],
          "barpolar": [
           {
            "marker": {
             "line": {
              "color": "#E5ECF6",
              "width": 0.5
             },
             "pattern": {
              "fillmode": "overlay",
              "size": 10,
              "solidity": 0.2
             }
            },
            "type": "barpolar"
           }
          ],
          "carpet": [
           {
            "aaxis": {
             "endlinecolor": "#2a3f5f",
             "gridcolor": "white",
             "linecolor": "white",
             "minorgridcolor": "white",
             "startlinecolor": "#2a3f5f"
            },
            "baxis": {
             "endlinecolor": "#2a3f5f",
             "gridcolor": "white",
             "linecolor": "white",
             "minorgridcolor": "white",
             "startlinecolor": "#2a3f5f"
            },
            "type": "carpet"
           }
          ],
          "choropleth": [
           {
            "colorbar": {
             "outlinewidth": 0,
             "ticks": ""
            },
            "type": "choropleth"
           }
          ],
          "contour": [
           {
            "colorbar": {
             "outlinewidth": 0,
             "ticks": ""
            },
            "colorscale": [
             [
              0,
              "#0d0887"
             ],
             [
              0.1111111111111111,
              "#46039f"
             ],
             [
              0.2222222222222222,
              "#7201a8"
             ],
             [
              0.3333333333333333,
              "#9c179e"
             ],
             [
              0.4444444444444444,
              "#bd3786"
             ],
             [
              0.5555555555555556,
              "#d8576b"
             ],
             [
              0.6666666666666666,
              "#ed7953"
             ],
             [
              0.7777777777777778,
              "#fb9f3a"
             ],
             [
              0.8888888888888888,
              "#fdca26"
             ],
             [
              1,
              "#f0f921"
             ]
            ],
            "type": "contour"
           }
          ],
          "contourcarpet": [
           {
            "colorbar": {
             "outlinewidth": 0,
             "ticks": ""
            },
            "type": "contourcarpet"
           }
          ],
          "heatmap": [
           {
            "colorbar": {
             "outlinewidth": 0,
             "ticks": ""
            },
            "colorscale": [
             [
              0,
              "#0d0887"
             ],
             [
              0.1111111111111111,
              "#46039f"
             ],
             [
              0.2222222222222222,
              "#7201a8"
             ],
             [
              0.3333333333333333,
              "#9c179e"
             ],
             [
              0.4444444444444444,
              "#bd3786"
             ],
             [
              0.5555555555555556,
              "#d8576b"
             ],
             [
              0.6666666666666666,
              "#ed7953"
             ],
             [
              0.7777777777777778,
              "#fb9f3a"
             ],
             [
              0.8888888888888888,
              "#fdca26"
             ],
             [
              1,
              "#f0f921"
             ]
            ],
            "type": "heatmap"
           }
          ],
          "heatmapgl": [
           {
            "colorbar": {
             "outlinewidth": 0,
             "ticks": ""
            },
            "colorscale": [
             [
              0,
              "#0d0887"
             ],
             [
              0.1111111111111111,
              "#46039f"
             ],
             [
              0.2222222222222222,
              "#7201a8"
             ],
             [
              0.3333333333333333,
              "#9c179e"
             ],
             [
              0.4444444444444444,
              "#bd3786"
             ],
             [
              0.5555555555555556,
              "#d8576b"
             ],
             [
              0.6666666666666666,
              "#ed7953"
             ],
             [
              0.7777777777777778,
              "#fb9f3a"
             ],
             [
              0.8888888888888888,
              "#fdca26"
             ],
             [
              1,
              "#f0f921"
             ]
            ],
            "type": "heatmapgl"
           }
          ],
          "histogram": [
           {
            "marker": {
             "pattern": {
              "fillmode": "overlay",
              "size": 10,
              "solidity": 0.2
             }
            },
            "type": "histogram"
           }
          ],
          "histogram2d": [
           {
            "colorbar": {
             "outlinewidth": 0,
             "ticks": ""
            },
            "colorscale": [
             [
              0,
              "#0d0887"
             ],
             [
              0.1111111111111111,
              "#46039f"
             ],
             [
              0.2222222222222222,
              "#7201a8"
             ],
             [
              0.3333333333333333,
              "#9c179e"
             ],
             [
              0.4444444444444444,
              "#bd3786"
             ],
             [
              0.5555555555555556,
              "#d8576b"
             ],
             [
              0.6666666666666666,
              "#ed7953"
             ],
             [
              0.7777777777777778,
              "#fb9f3a"
             ],
             [
              0.8888888888888888,
              "#fdca26"
             ],
             [
              1,
              "#f0f921"
             ]
            ],
            "type": "histogram2d"
           }
          ],
          "histogram2dcontour": [
           {
            "colorbar": {
             "outlinewidth": 0,
             "ticks": ""
            },
            "colorscale": [
             [
              0,
              "#0d0887"
             ],
             [
              0.1111111111111111,
              "#46039f"
             ],
             [
              0.2222222222222222,
              "#7201a8"
             ],
             [
              0.3333333333333333,
              "#9c179e"
             ],
             [
              0.4444444444444444,
              "#bd3786"
             ],
             [
              0.5555555555555556,
              "#d8576b"
             ],
             [
              0.6666666666666666,
              "#ed7953"
             ],
             [
              0.7777777777777778,
              "#fb9f3a"
             ],
             [
              0.8888888888888888,
              "#fdca26"
             ],
             [
              1,
              "#f0f921"
             ]
            ],
            "type": "histogram2dcontour"
           }
          ],
          "mesh3d": [
           {
            "colorbar": {
             "outlinewidth": 0,
             "ticks": ""
            },
            "type": "mesh3d"
           }
          ],
          "parcoords": [
           {
            "line": {
             "colorbar": {
              "outlinewidth": 0,
              "ticks": ""
             }
            },
            "type": "parcoords"
           }
          ],
          "pie": [
           {
            "automargin": true,
            "type": "pie"
           }
          ],
          "scatter": [
           {
            "fillpattern": {
             "fillmode": "overlay",
             "size": 10,
             "solidity": 0.2
            },
            "type": "scatter"
           }
          ],
          "scatter3d": [
           {
            "line": {
             "colorbar": {
              "outlinewidth": 0,
              "ticks": ""
             }
            },
            "marker": {
             "colorbar": {
              "outlinewidth": 0,
              "ticks": ""
             }
            },
            "type": "scatter3d"
           }
          ],
          "scattercarpet": [
           {
            "marker": {
             "colorbar": {
              "outlinewidth": 0,
              "ticks": ""
             }
            },
            "type": "scattercarpet"
           }
          ],
          "scattergeo": [
           {
            "marker": {
             "colorbar": {
              "outlinewidth": 0,
              "ticks": ""
             }
            },
            "type": "scattergeo"
           }
          ],
          "scattergl": [
           {
            "marker": {
             "colorbar": {
              "outlinewidth": 0,
              "ticks": ""
             }
            },
            "type": "scattergl"
           }
          ],
          "scattermapbox": [
           {
            "marker": {
             "colorbar": {
              "outlinewidth": 0,
              "ticks": ""
             }
            },
            "type": "scattermapbox"
           }
          ],
          "scatterpolar": [
           {
            "marker": {
             "colorbar": {
              "outlinewidth": 0,
              "ticks": ""
             }
            },
            "type": "scatterpolar"
           }
          ],
          "scatterpolargl": [
           {
            "marker": {
             "colorbar": {
              "outlinewidth": 0,
              "ticks": ""
             }
            },
            "type": "scatterpolargl"
           }
          ],
          "scatterternary": [
           {
            "marker": {
             "colorbar": {
              "outlinewidth": 0,
              "ticks": ""
             }
            },
            "type": "scatterternary"
           }
          ],
          "surface": [
           {
            "colorbar": {
             "outlinewidth": 0,
             "ticks": ""
            },
            "colorscale": [
             [
              0,
              "#0d0887"
             ],
             [
              0.1111111111111111,
              "#46039f"
             ],
             [
              0.2222222222222222,
              "#7201a8"
             ],
             [
              0.3333333333333333,
              "#9c179e"
             ],
             [
              0.4444444444444444,
              "#bd3786"
             ],
             [
              0.5555555555555556,
              "#d8576b"
             ],
             [
              0.6666666666666666,
              "#ed7953"
             ],
             [
              0.7777777777777778,
              "#fb9f3a"
             ],
             [
              0.8888888888888888,
              "#fdca26"
             ],
             [
              1,
              "#f0f921"
             ]
            ],
            "type": "surface"
           }
          ],
          "table": [
           {
            "cells": {
             "fill": {
              "color": "#EBF0F8"
             },
             "line": {
              "color": "white"
             }
            },
            "header": {
             "fill": {
              "color": "#C8D4E3"
             },
             "line": {
              "color": "white"
             }
            },
            "type": "table"
           }
          ]
         },
         "layout": {
          "annotationdefaults": {
           "arrowcolor": "#2a3f5f",
           "arrowhead": 0,
           "arrowwidth": 1
          },
          "autotypenumbers": "strict",
          "coloraxis": {
           "colorbar": {
            "outlinewidth": 0,
            "ticks": ""
           }
          },
          "colorscale": {
           "diverging": [
            [
             0,
             "#8e0152"
            ],
            [
             0.1,
             "#c51b7d"
            ],
            [
             0.2,
             "#de77ae"
            ],
            [
             0.3,
             "#f1b6da"
            ],
            [
             0.4,
             "#fde0ef"
            ],
            [
             0.5,
             "#f7f7f7"
            ],
            [
             0.6,
             "#e6f5d0"
            ],
            [
             0.7,
             "#b8e186"
            ],
            [
             0.8,
             "#7fbc41"
            ],
            [
             0.9,
             "#4d9221"
            ],
            [
             1,
             "#276419"
            ]
           ],
           "sequential": [
            [
             0,
             "#0d0887"
            ],
            [
             0.1111111111111111,
             "#46039f"
            ],
            [
             0.2222222222222222,
             "#7201a8"
            ],
            [
             0.3333333333333333,
             "#9c179e"
            ],
            [
             0.4444444444444444,
             "#bd3786"
            ],
            [
             0.5555555555555556,
             "#d8576b"
            ],
            [
             0.6666666666666666,
             "#ed7953"
            ],
            [
             0.7777777777777778,
             "#fb9f3a"
            ],
            [
             0.8888888888888888,
             "#fdca26"
            ],
            [
             1,
             "#f0f921"
            ]
           ],
           "sequentialminus": [
            [
             0,
             "#0d0887"
            ],
            [
             0.1111111111111111,
             "#46039f"
            ],
            [
             0.2222222222222222,
             "#7201a8"
            ],
            [
             0.3333333333333333,
             "#9c179e"
            ],
            [
             0.4444444444444444,
             "#bd3786"
            ],
            [
             0.5555555555555556,
             "#d8576b"
            ],
            [
             0.6666666666666666,
             "#ed7953"
            ],
            [
             0.7777777777777778,
             "#fb9f3a"
            ],
            [
             0.8888888888888888,
             "#fdca26"
            ],
            [
             1,
             "#f0f921"
            ]
           ]
          },
          "colorway": [
           "#636efa",
           "#EF553B",
           "#00cc96",
           "#ab63fa",
           "#FFA15A",
           "#19d3f3",
           "#FF6692",
           "#B6E880",
           "#FF97FF",
           "#FECB52"
          ],
          "font": {
           "color": "#2a3f5f"
          },
          "geo": {
           "bgcolor": "white",
           "lakecolor": "white",
           "landcolor": "#E5ECF6",
           "showlakes": true,
           "showland": true,
           "subunitcolor": "white"
          },
          "hoverlabel": {
           "align": "left"
          },
          "hovermode": "closest",
          "mapbox": {
           "style": "light"
          },
          "paper_bgcolor": "white",
          "plot_bgcolor": "#E5ECF6",
          "polar": {
           "angularaxis": {
            "gridcolor": "white",
            "linecolor": "white",
            "ticks": ""
           },
           "bgcolor": "#E5ECF6",
           "radialaxis": {
            "gridcolor": "white",
            "linecolor": "white",
            "ticks": ""
           }
          },
          "scene": {
           "xaxis": {
            "backgroundcolor": "#E5ECF6",
            "gridcolor": "white",
            "gridwidth": 2,
            "linecolor": "white",
            "showbackground": true,
            "ticks": "",
            "zerolinecolor": "white"
           },
           "yaxis": {
            "backgroundcolor": "#E5ECF6",
            "gridcolor": "white",
            "gridwidth": 2,
            "linecolor": "white",
            "showbackground": true,
            "ticks": "",
            "zerolinecolor": "white"
           },
           "zaxis": {
            "backgroundcolor": "#E5ECF6",
            "gridcolor": "white",
            "gridwidth": 2,
            "linecolor": "white",
            "showbackground": true,
            "ticks": "",
            "zerolinecolor": "white"
           }
          },
          "shapedefaults": {
           "line": {
            "color": "#2a3f5f"
           }
          },
          "ternary": {
           "aaxis": {
            "gridcolor": "white",
            "linecolor": "white",
            "ticks": ""
           },
           "baxis": {
            "gridcolor": "white",
            "linecolor": "white",
            "ticks": ""
           },
           "bgcolor": "#E5ECF6",
           "caxis": {
            "gridcolor": "white",
            "linecolor": "white",
            "ticks": ""
           }
          },
          "title": {
           "x": 0.05
          },
          "xaxis": {
           "automargin": true,
           "gridcolor": "white",
           "linecolor": "white",
           "ticks": "",
           "title": {
            "standoff": 15
           },
           "zerolinecolor": "white",
           "zerolinewidth": 2
          },
          "yaxis": {
           "automargin": true,
           "gridcolor": "white",
           "linecolor": "white",
           "ticks": "",
           "title": {
            "standoff": 15
           },
           "zerolinecolor": "white",
           "zerolinewidth": 2
          }
         }
        },
        "title": {
         "text": "Top 10 Model with KM range"
        }
       }
      }
     },
     "metadata": {},
     "output_type": "display_data"
    }
   ],
   "source": [
    "# Now visualize the Distances Travel by vehicle make per electric charge\n",
    "import plotly.express as ps\n",
    "km_range = pd.DataFrame(df.groupby('Make')['Electric_Range'].mean().reset_index()).sort_values(by='Electric_Range',ascending=False).reset_index(drop=True).head(10)\n",
    "km_range.columns = ['model','km_range']\n",
    "ps.pie(data_frame=km_range, names='model', values='km_range', hover_name='km_range',title='Top 10 Model with KM range',hole=True)"
   ]
  },
  {
   "cell_type": "code",
   "execution_count": 55,
   "metadata": {},
   "outputs": [
    {
     "data": {
      "application/vnd.plotly.v1+json": {
       "config": {
        "plotlyServerURL": "https://plot.ly"
       },
       "data": [
        {
         "hovertemplate": "year=%{x}<br>num_cars=%{y}<extra></extra>",
         "legendgroup": "",
         "line": {
          "color": "#636efa",
          "dash": "solid"
         },
         "marker": {
          "symbol": "circle"
         },
         "mode": "lines+markers",
         "name": "",
         "orientation": "v",
         "showlegend": false,
         "type": "scatter",
         "x": [
          1997,
          1998,
          1999,
          2000,
          2002,
          2008,
          2010,
          2011,
          2012,
          2013,
          2014,
          2015,
          2016,
          2017,
          2018,
          2019,
          2020,
          2021,
          2022,
          2023
         ],
         "xaxis": "x",
         "y": [
          1,
          1,
          4,
          10,
          2,
          25,
          25,
          834,
          1708,
          4708,
          3680,
          4957,
          5758,
          8656,
          14313,
          10173,
          11048,
          18409,
          24728,
          441
         ],
         "yaxis": "y"
        }
       ],
       "layout": {
        "legend": {
         "tracegroupgap": 0
        },
        "template": {
         "data": {
          "bar": [
           {
            "error_x": {
             "color": "#2a3f5f"
            },
            "error_y": {
             "color": "#2a3f5f"
            },
            "marker": {
             "line": {
              "color": "#E5ECF6",
              "width": 0.5
             },
             "pattern": {
              "fillmode": "overlay",
              "size": 10,
              "solidity": 0.2
             }
            },
            "type": "bar"
           }
          ],
          "barpolar": [
           {
            "marker": {
             "line": {
              "color": "#E5ECF6",
              "width": 0.5
             },
             "pattern": {
              "fillmode": "overlay",
              "size": 10,
              "solidity": 0.2
             }
            },
            "type": "barpolar"
           }
          ],
          "carpet": [
           {
            "aaxis": {
             "endlinecolor": "#2a3f5f",
             "gridcolor": "white",
             "linecolor": "white",
             "minorgridcolor": "white",
             "startlinecolor": "#2a3f5f"
            },
            "baxis": {
             "endlinecolor": "#2a3f5f",
             "gridcolor": "white",
             "linecolor": "white",
             "minorgridcolor": "white",
             "startlinecolor": "#2a3f5f"
            },
            "type": "carpet"
           }
          ],
          "choropleth": [
           {
            "colorbar": {
             "outlinewidth": 0,
             "ticks": ""
            },
            "type": "choropleth"
           }
          ],
          "contour": [
           {
            "colorbar": {
             "outlinewidth": 0,
             "ticks": ""
            },
            "colorscale": [
             [
              0,
              "#0d0887"
             ],
             [
              0.1111111111111111,
              "#46039f"
             ],
             [
              0.2222222222222222,
              "#7201a8"
             ],
             [
              0.3333333333333333,
              "#9c179e"
             ],
             [
              0.4444444444444444,
              "#bd3786"
             ],
             [
              0.5555555555555556,
              "#d8576b"
             ],
             [
              0.6666666666666666,
              "#ed7953"
             ],
             [
              0.7777777777777778,
              "#fb9f3a"
             ],
             [
              0.8888888888888888,
              "#fdca26"
             ],
             [
              1,
              "#f0f921"
             ]
            ],
            "type": "contour"
           }
          ],
          "contourcarpet": [
           {
            "colorbar": {
             "outlinewidth": 0,
             "ticks": ""
            },
            "type": "contourcarpet"
           }
          ],
          "heatmap": [
           {
            "colorbar": {
             "outlinewidth": 0,
             "ticks": ""
            },
            "colorscale": [
             [
              0,
              "#0d0887"
             ],
             [
              0.1111111111111111,
              "#46039f"
             ],
             [
              0.2222222222222222,
              "#7201a8"
             ],
             [
              0.3333333333333333,
              "#9c179e"
             ],
             [
              0.4444444444444444,
              "#bd3786"
             ],
             [
              0.5555555555555556,
              "#d8576b"
             ],
             [
              0.6666666666666666,
              "#ed7953"
             ],
             [
              0.7777777777777778,
              "#fb9f3a"
             ],
             [
              0.8888888888888888,
              "#fdca26"
             ],
             [
              1,
              "#f0f921"
             ]
            ],
            "type": "heatmap"
           }
          ],
          "heatmapgl": [
           {
            "colorbar": {
             "outlinewidth": 0,
             "ticks": ""
            },
            "colorscale": [
             [
              0,
              "#0d0887"
             ],
             [
              0.1111111111111111,
              "#46039f"
             ],
             [
              0.2222222222222222,
              "#7201a8"
             ],
             [
              0.3333333333333333,
              "#9c179e"
             ],
             [
              0.4444444444444444,
              "#bd3786"
             ],
             [
              0.5555555555555556,
              "#d8576b"
             ],
             [
              0.6666666666666666,
              "#ed7953"
             ],
             [
              0.7777777777777778,
              "#fb9f3a"
             ],
             [
              0.8888888888888888,
              "#fdca26"
             ],
             [
              1,
              "#f0f921"
             ]
            ],
            "type": "heatmapgl"
           }
          ],
          "histogram": [
           {
            "marker": {
             "pattern": {
              "fillmode": "overlay",
              "size": 10,
              "solidity": 0.2
             }
            },
            "type": "histogram"
           }
          ],
          "histogram2d": [
           {
            "colorbar": {
             "outlinewidth": 0,
             "ticks": ""
            },
            "colorscale": [
             [
              0,
              "#0d0887"
             ],
             [
              0.1111111111111111,
              "#46039f"
             ],
             [
              0.2222222222222222,
              "#7201a8"
             ],
             [
              0.3333333333333333,
              "#9c179e"
             ],
             [
              0.4444444444444444,
              "#bd3786"
             ],
             [
              0.5555555555555556,
              "#d8576b"
             ],
             [
              0.6666666666666666,
              "#ed7953"
             ],
             [
              0.7777777777777778,
              "#fb9f3a"
             ],
             [
              0.8888888888888888,
              "#fdca26"
             ],
             [
              1,
              "#f0f921"
             ]
            ],
            "type": "histogram2d"
           }
          ],
          "histogram2dcontour": [
           {
            "colorbar": {
             "outlinewidth": 0,
             "ticks": ""
            },
            "colorscale": [
             [
              0,
              "#0d0887"
             ],
             [
              0.1111111111111111,
              "#46039f"
             ],
             [
              0.2222222222222222,
              "#7201a8"
             ],
             [
              0.3333333333333333,
              "#9c179e"
             ],
             [
              0.4444444444444444,
              "#bd3786"
             ],
             [
              0.5555555555555556,
              "#d8576b"
             ],
             [
              0.6666666666666666,
              "#ed7953"
             ],
             [
              0.7777777777777778,
              "#fb9f3a"
             ],
             [
              0.8888888888888888,
              "#fdca26"
             ],
             [
              1,
              "#f0f921"
             ]
            ],
            "type": "histogram2dcontour"
           }
          ],
          "mesh3d": [
           {
            "colorbar": {
             "outlinewidth": 0,
             "ticks": ""
            },
            "type": "mesh3d"
           }
          ],
          "parcoords": [
           {
            "line": {
             "colorbar": {
              "outlinewidth": 0,
              "ticks": ""
             }
            },
            "type": "parcoords"
           }
          ],
          "pie": [
           {
            "automargin": true,
            "type": "pie"
           }
          ],
          "scatter": [
           {
            "fillpattern": {
             "fillmode": "overlay",
             "size": 10,
             "solidity": 0.2
            },
            "type": "scatter"
           }
          ],
          "scatter3d": [
           {
            "line": {
             "colorbar": {
              "outlinewidth": 0,
              "ticks": ""
             }
            },
            "marker": {
             "colorbar": {
              "outlinewidth": 0,
              "ticks": ""
             }
            },
            "type": "scatter3d"
           }
          ],
          "scattercarpet": [
           {
            "marker": {
             "colorbar": {
              "outlinewidth": 0,
              "ticks": ""
             }
            },
            "type": "scattercarpet"
           }
          ],
          "scattergeo": [
           {
            "marker": {
             "colorbar": {
              "outlinewidth": 0,
              "ticks": ""
             }
            },
            "type": "scattergeo"
           }
          ],
          "scattergl": [
           {
            "marker": {
             "colorbar": {
              "outlinewidth": 0,
              "ticks": ""
             }
            },
            "type": "scattergl"
           }
          ],
          "scattermapbox": [
           {
            "marker": {
             "colorbar": {
              "outlinewidth": 0,
              "ticks": ""
             }
            },
            "type": "scattermapbox"
           }
          ],
          "scatterpolar": [
           {
            "marker": {
             "colorbar": {
              "outlinewidth": 0,
              "ticks": ""
             }
            },
            "type": "scatterpolar"
           }
          ],
          "scatterpolargl": [
           {
            "marker": {
             "colorbar": {
              "outlinewidth": 0,
              "ticks": ""
             }
            },
            "type": "scatterpolargl"
           }
          ],
          "scatterternary": [
           {
            "marker": {
             "colorbar": {
              "outlinewidth": 0,
              "ticks": ""
             }
            },
            "type": "scatterternary"
           }
          ],
          "surface": [
           {
            "colorbar": {
             "outlinewidth": 0,
             "ticks": ""
            },
            "colorscale": [
             [
              0,
              "#0d0887"
             ],
             [
              0.1111111111111111,
              "#46039f"
             ],
             [
              0.2222222222222222,
              "#7201a8"
             ],
             [
              0.3333333333333333,
              "#9c179e"
             ],
             [
              0.4444444444444444,
              "#bd3786"
             ],
             [
              0.5555555555555556,
              "#d8576b"
             ],
             [
              0.6666666666666666,
              "#ed7953"
             ],
             [
              0.7777777777777778,
              "#fb9f3a"
             ],
             [
              0.8888888888888888,
              "#fdca26"
             ],
             [
              1,
              "#f0f921"
             ]
            ],
            "type": "surface"
           }
          ],
          "table": [
           {
            "cells": {
             "fill": {
              "color": "#EBF0F8"
             },
             "line": {
              "color": "white"
             }
            },
            "header": {
             "fill": {
              "color": "#C8D4E3"
             },
             "line": {
              "color": "white"
             }
            },
            "type": "table"
           }
          ]
         },
         "layout": {
          "annotationdefaults": {
           "arrowcolor": "#2a3f5f",
           "arrowhead": 0,
           "arrowwidth": 1
          },
          "autotypenumbers": "strict",
          "coloraxis": {
           "colorbar": {
            "outlinewidth": 0,
            "ticks": ""
           }
          },
          "colorscale": {
           "diverging": [
            [
             0,
             "#8e0152"
            ],
            [
             0.1,
             "#c51b7d"
            ],
            [
             0.2,
             "#de77ae"
            ],
            [
             0.3,
             "#f1b6da"
            ],
            [
             0.4,
             "#fde0ef"
            ],
            [
             0.5,
             "#f7f7f7"
            ],
            [
             0.6,
             "#e6f5d0"
            ],
            [
             0.7,
             "#b8e186"
            ],
            [
             0.8,
             "#7fbc41"
            ],
            [
             0.9,
             "#4d9221"
            ],
            [
             1,
             "#276419"
            ]
           ],
           "sequential": [
            [
             0,
             "#0d0887"
            ],
            [
             0.1111111111111111,
             "#46039f"
            ],
            [
             0.2222222222222222,
             "#7201a8"
            ],
            [
             0.3333333333333333,
             "#9c179e"
            ],
            [
             0.4444444444444444,
             "#bd3786"
            ],
            [
             0.5555555555555556,
             "#d8576b"
            ],
            [
             0.6666666666666666,
             "#ed7953"
            ],
            [
             0.7777777777777778,
             "#fb9f3a"
            ],
            [
             0.8888888888888888,
             "#fdca26"
            ],
            [
             1,
             "#f0f921"
            ]
           ],
           "sequentialminus": [
            [
             0,
             "#0d0887"
            ],
            [
             0.1111111111111111,
             "#46039f"
            ],
            [
             0.2222222222222222,
             "#7201a8"
            ],
            [
             0.3333333333333333,
             "#9c179e"
            ],
            [
             0.4444444444444444,
             "#bd3786"
            ],
            [
             0.5555555555555556,
             "#d8576b"
            ],
            [
             0.6666666666666666,
             "#ed7953"
            ],
            [
             0.7777777777777778,
             "#fb9f3a"
            ],
            [
             0.8888888888888888,
             "#fdca26"
            ],
            [
             1,
             "#f0f921"
            ]
           ]
          },
          "colorway": [
           "#636efa",
           "#EF553B",
           "#00cc96",
           "#ab63fa",
           "#FFA15A",
           "#19d3f3",
           "#FF6692",
           "#B6E880",
           "#FF97FF",
           "#FECB52"
          ],
          "font": {
           "color": "#2a3f5f"
          },
          "geo": {
           "bgcolor": "white",
           "lakecolor": "white",
           "landcolor": "#E5ECF6",
           "showlakes": true,
           "showland": true,
           "subunitcolor": "white"
          },
          "hoverlabel": {
           "align": "left"
          },
          "hovermode": "closest",
          "mapbox": {
           "style": "light"
          },
          "paper_bgcolor": "white",
          "plot_bgcolor": "#E5ECF6",
          "polar": {
           "angularaxis": {
            "gridcolor": "white",
            "linecolor": "white",
            "ticks": ""
           },
           "bgcolor": "#E5ECF6",
           "radialaxis": {
            "gridcolor": "white",
            "linecolor": "white",
            "ticks": ""
           }
          },
          "scene": {
           "xaxis": {
            "backgroundcolor": "#E5ECF6",
            "gridcolor": "white",
            "gridwidth": 2,
            "linecolor": "white",
            "showbackground": true,
            "ticks": "",
            "zerolinecolor": "white"
           },
           "yaxis": {
            "backgroundcolor": "#E5ECF6",
            "gridcolor": "white",
            "gridwidth": 2,
            "linecolor": "white",
            "showbackground": true,
            "ticks": "",
            "zerolinecolor": "white"
           },
           "zaxis": {
            "backgroundcolor": "#E5ECF6",
            "gridcolor": "white",
            "gridwidth": 2,
            "linecolor": "white",
            "showbackground": true,
            "ticks": "",
            "zerolinecolor": "white"
           }
          },
          "shapedefaults": {
           "line": {
            "color": "#2a3f5f"
           }
          },
          "ternary": {
           "aaxis": {
            "gridcolor": "white",
            "linecolor": "white",
            "ticks": ""
           },
           "baxis": {
            "gridcolor": "white",
            "linecolor": "white",
            "ticks": ""
           },
           "bgcolor": "#E5ECF6",
           "caxis": {
            "gridcolor": "white",
            "linecolor": "white",
            "ticks": ""
           }
          },
          "title": {
           "x": 0.05
          },
          "xaxis": {
           "automargin": true,
           "gridcolor": "white",
           "linecolor": "white",
           "ticks": "",
           "title": {
            "standoff": 15
           },
           "zerolinecolor": "white",
           "zerolinewidth": 2
          },
          "yaxis": {
           "automargin": true,
           "gridcolor": "white",
           "linecolor": "white",
           "ticks": "",
           "title": {
            "standoff": 15
           },
           "zerolinecolor": "white",
           "zerolinewidth": 2
          }
         }
        },
        "title": {
         "text": "Year Wise Number of Cars"
        },
        "xaxis": {
         "anchor": "y",
         "domain": [
          0,
          1
         ],
         "title": {
          "text": "year"
         }
        },
        "yaxis": {
         "anchor": "x",
         "domain": [
          0,
          1
         ],
         "title": {
          "text": "num_cars"
         }
        }
       }
      }
     },
     "metadata": {},
     "output_type": "display_data"
    }
   ],
   "source": [
    "# Now visualize  the Year Wise Cars sales growth\n",
    "# Year Wise Cars\n",
    "year_wise_cars = df.groupby('ModelYear')['VIN'].count().reset_index()\n",
    "year_wise_cars.columns = ['year','num_cars']\n",
    "\n",
    "fig = ps.line(year_wise_cars,x=\"year\", y=\"num_cars\", title='Year Wise Number of Cars',markers=True)\n",
    "fig.show()"
   ]
  },
  {
   "cell_type": "markdown",
   "metadata": {},
   "source": [
    "## 4. Summary & Conclusion\n",
    "The Electric Vehicle Population dataset contains information on Battery Electric Vehicles (BEVs) and Plug-in Hybrid Electric Vehicles (PHEVs) registered through Washington State Department of Licensing (DOL). Through exploratory data analysis, the top 10 counts of cars per county, city, state, and postal code were determined. King County had the most cars registered, followed by Snohomish and Pierce counties. Seattle had the most cars registered by city, followed by Bellevue and Redmond. Washington had the most cars registered by state, followed by California and Virginia.\n",
    "\n",
    "The dataset also provided insight into the top 10 consumed car makers by county, city, and state, with Tesla being the most popular make overall. There appears to be an opportunity for car vendors like Audi and BMW to market their vehicles in other states. The top 10 postal codes were also identified, providing further insight for marketing and upselling opportunities."
   ]
  }
 ],
 "metadata": {
  "kernelspec": {
   "display_name": "pytorch_env",
   "language": "python",
   "name": "python3"
  },
  "language_info": {
   "codemirror_mode": {
    "name": "ipython",
    "version": 3
   },
   "file_extension": ".py",
   "mimetype": "text/x-python",
   "name": "python",
   "nbconvert_exporter": "python",
   "pygments_lexer": "ipython3",
   "version": "3.10.16"
  }
 },
 "nbformat": 4,
 "nbformat_minor": 2
}
